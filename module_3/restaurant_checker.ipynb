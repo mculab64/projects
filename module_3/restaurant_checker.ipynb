{
 "cells": [
  {
   "cell_type": "code",
   "execution_count": 2,
   "metadata": {},
   "outputs": [],
   "source": [
    "import pandas as pd\n",
    "import numpy as np\n",
    "import json\n",
    "import datetime as dt"
   ]
  },
  {
   "cell_type": "code",
   "execution_count": 3,
   "metadata": {},
   "outputs": [],
   "source": [
    "data = pd.read_csv('main_task.csv')"
   ]
  },
  {
   "cell_type": "code",
   "execution_count": 4,
   "metadata": {},
   "outputs": [
    {
     "data": {
      "text/html": [
       "<div>\n",
       "<style scoped>\n",
       "    .dataframe tbody tr th:only-of-type {\n",
       "        vertical-align: middle;\n",
       "    }\n",
       "\n",
       "    .dataframe tbody tr th {\n",
       "        vertical-align: top;\n",
       "    }\n",
       "\n",
       "    .dataframe thead th {\n",
       "        text-align: right;\n",
       "    }\n",
       "</style>\n",
       "<table border=\"1\" class=\"dataframe\">\n",
       "  <thead>\n",
       "    <tr style=\"text-align: right;\">\n",
       "      <th></th>\n",
       "      <th>Restaurant_id</th>\n",
       "      <th>City</th>\n",
       "      <th>Cuisine Style</th>\n",
       "      <th>Ranking</th>\n",
       "      <th>Rating</th>\n",
       "      <th>Price Range</th>\n",
       "      <th>Number of Reviews</th>\n",
       "      <th>Reviews</th>\n",
       "      <th>URL_TA</th>\n",
       "      <th>ID_TA</th>\n",
       "    </tr>\n",
       "  </thead>\n",
       "  <tbody>\n",
       "    <tr>\n",
       "      <th>0</th>\n",
       "      <td>id_5569</td>\n",
       "      <td>Paris</td>\n",
       "      <td>['European', 'French', 'International']</td>\n",
       "      <td>5570.0</td>\n",
       "      <td>3.5</td>\n",
       "      <td>$$ - $$$</td>\n",
       "      <td>194.0</td>\n",
       "      <td>[['Good food at your doorstep', 'A good hotel ...</td>\n",
       "      <td>/Restaurant_Review-g187147-d1912643-Reviews-R_...</td>\n",
       "      <td>d1912643</td>\n",
       "    </tr>\n",
       "    <tr>\n",
       "      <th>1</th>\n",
       "      <td>id_1535</td>\n",
       "      <td>Stockholm</td>\n",
       "      <td>NaN</td>\n",
       "      <td>1537.0</td>\n",
       "      <td>4.0</td>\n",
       "      <td>NaN</td>\n",
       "      <td>10.0</td>\n",
       "      <td>[['Unique cuisine', 'Delicious Nepalese food']...</td>\n",
       "      <td>/Restaurant_Review-g189852-d7992032-Reviews-Bu...</td>\n",
       "      <td>d7992032</td>\n",
       "    </tr>\n",
       "    <tr>\n",
       "      <th>2</th>\n",
       "      <td>id_352</td>\n",
       "      <td>London</td>\n",
       "      <td>['Japanese', 'Sushi', 'Asian', 'Grill', 'Veget...</td>\n",
       "      <td>353.0</td>\n",
       "      <td>4.5</td>\n",
       "      <td>$$$$</td>\n",
       "      <td>688.0</td>\n",
       "      <td>[['Catch up with friends', 'Not exceptional'],...</td>\n",
       "      <td>/Restaurant_Review-g186338-d8632781-Reviews-RO...</td>\n",
       "      <td>d8632781</td>\n",
       "    </tr>\n",
       "    <tr>\n",
       "      <th>3</th>\n",
       "      <td>id_3456</td>\n",
       "      <td>Berlin</td>\n",
       "      <td>NaN</td>\n",
       "      <td>3458.0</td>\n",
       "      <td>5.0</td>\n",
       "      <td>NaN</td>\n",
       "      <td>3.0</td>\n",
       "      <td>[[], []]</td>\n",
       "      <td>/Restaurant_Review-g187323-d1358776-Reviews-Es...</td>\n",
       "      <td>d1358776</td>\n",
       "    </tr>\n",
       "    <tr>\n",
       "      <th>4</th>\n",
       "      <td>id_615</td>\n",
       "      <td>Munich</td>\n",
       "      <td>['German', 'Central European', 'Vegetarian Fri...</td>\n",
       "      <td>621.0</td>\n",
       "      <td>4.0</td>\n",
       "      <td>$$ - $$$</td>\n",
       "      <td>84.0</td>\n",
       "      <td>[['Best place to try a Bavarian food', 'Nice b...</td>\n",
       "      <td>/Restaurant_Review-g187309-d6864963-Reviews-Au...</td>\n",
       "      <td>d6864963</td>\n",
       "    </tr>\n",
       "  </tbody>\n",
       "</table>\n",
       "</div>"
      ],
      "text/plain": [
       "  Restaurant_id       City                                      Cuisine Style  \\\n",
       "0       id_5569      Paris            ['European', 'French', 'International']   \n",
       "1       id_1535  Stockholm                                                NaN   \n",
       "2        id_352     London  ['Japanese', 'Sushi', 'Asian', 'Grill', 'Veget...   \n",
       "3       id_3456     Berlin                                                NaN   \n",
       "4        id_615     Munich  ['German', 'Central European', 'Vegetarian Fri...   \n",
       "\n",
       "   Ranking  Rating Price Range  Number of Reviews  \\\n",
       "0   5570.0     3.5    $$ - $$$              194.0   \n",
       "1   1537.0     4.0         NaN               10.0   \n",
       "2    353.0     4.5        $$$$              688.0   \n",
       "3   3458.0     5.0         NaN                3.0   \n",
       "4    621.0     4.0    $$ - $$$               84.0   \n",
       "\n",
       "                                             Reviews  \\\n",
       "0  [['Good food at your doorstep', 'A good hotel ...   \n",
       "1  [['Unique cuisine', 'Delicious Nepalese food']...   \n",
       "2  [['Catch up with friends', 'Not exceptional'],...   \n",
       "3                                           [[], []]   \n",
       "4  [['Best place to try a Bavarian food', 'Nice b...   \n",
       "\n",
       "                                              URL_TA     ID_TA  \n",
       "0  /Restaurant_Review-g187147-d1912643-Reviews-R_...  d1912643  \n",
       "1  /Restaurant_Review-g189852-d7992032-Reviews-Bu...  d7992032  \n",
       "2  /Restaurant_Review-g186338-d8632781-Reviews-RO...  d8632781  \n",
       "3  /Restaurant_Review-g187323-d1358776-Reviews-Es...  d1358776  \n",
       "4  /Restaurant_Review-g187309-d6864963-Reviews-Au...  d6864963  "
      ]
     },
     "execution_count": 4,
     "metadata": {},
     "output_type": "execute_result"
    }
   ],
   "source": [
    "data.head()"
   ]
  },
  {
   "cell_type": "code",
   "execution_count": 5,
   "metadata": {},
   "outputs": [
    {
     "name": "stdout",
     "output_type": "stream",
     "text": [
      "<class 'pandas.core.frame.DataFrame'>\n",
      "RangeIndex: 40000 entries, 0 to 39999\n",
      "Data columns (total 10 columns):\n",
      " #   Column             Non-Null Count  Dtype  \n",
      "---  ------             --------------  -----  \n",
      " 0   Restaurant_id      40000 non-null  object \n",
      " 1   City               40000 non-null  object \n",
      " 2   Cuisine Style      30717 non-null  object \n",
      " 3   Ranking            40000 non-null  float64\n",
      " 4   Rating             40000 non-null  float64\n",
      " 5   Price Range        26114 non-null  object \n",
      " 6   Number of Reviews  37457 non-null  float64\n",
      " 7   Reviews            40000 non-null  object \n",
      " 8   URL_TA             40000 non-null  object \n",
      " 9   ID_TA              40000 non-null  object \n",
      "dtypes: float64(3), object(7)\n",
      "memory usage: 3.1+ MB\n"
     ]
    }
   ],
   "source": [
    "data.info()"
   ]
  },
  {
   "cell_type": "code",
   "execution_count": 6,
   "metadata": {},
   "outputs": [
    {
     "name": "stdout",
     "output_type": "stream",
     "text": [
      "<class 'str'> id_5569\n",
      "<class 'str'> Paris\n",
      "<class 'str'> ['European', 'French', 'International']\n",
      "<class 'numpy.float64'> 5570.0\n",
      "<class 'numpy.float64'> 3.5\n",
      "<class 'str'> $$ - $$$\n",
      "<class 'numpy.float64'> 194.0\n",
      "<class 'str'> [['Good food at your doorstep', 'A good hotel restaurant'], ['12/31/2017', '11/20/2017']]\n",
      "<class 'str'> /Restaurant_Review-g187147-d1912643-Reviews-R_Yves-Paris_Ile_de_France.html\n",
      "<class 'str'> d1912643\n"
     ]
    }
   ],
   "source": [
    "for el in data.iloc[0]:\n",
    "    print(type(el), el)"
   ]
  },
  {
   "cell_type": "code",
   "execution_count": 7,
   "metadata": {},
   "outputs": [
    {
     "data": {
      "text/plain": [
       "$$ - $$$    18412\n",
       "$            6279\n",
       "$$$$         1423\n",
       "Name: Price Range, dtype: int64"
      ]
     },
     "execution_count": 7,
     "metadata": {},
     "output_type": "execute_result"
    }
   ],
   "source": [
    "data['Price Range'].value_counts()"
   ]
  },
  {
   "cell_type": "code",
   "execution_count": 8,
   "metadata": {},
   "outputs": [
    {
     "data": {
      "text/plain": [
       "31"
      ]
     },
     "execution_count": 8,
     "metadata": {},
     "output_type": "execute_result"
    }
   ],
   "source": [
    "len(data.City.value_counts())"
   ]
  },
  {
   "cell_type": "code",
   "execution_count": 9,
   "metadata": {},
   "outputs": [],
   "source": [
    "def get_cuisines(cuisines):\n",
    "    '''\n",
    "    Получаем список кухонь в виде:\n",
    "    cuisines[0] - list of cusines\n",
    "    если был NaN, то возвращается 'Regionl Cusine' -как самая популярная в регионе/городе/стране\n",
    "    '''\n",
    "    if cuisines == 'NaN': return ['Regionl Cusine']#['Vegetarian Friendly'] # 'Vegetarian Friendly' - самая популярная\n",
    "    if  cuisines:\n",
    "        cuisines = str(cuisines).replace(\"'\",'\"')\n",
    "        return json.loads(cuisines)\n",
    "    else:\n",
    "        return ['Regionl Cusine'] #return ['Vegetarian Friendly']"
   ]
  },
  {
   "cell_type": "code",
   "execution_count": 10,
   "metadata": {},
   "outputs": [],
   "source": [
    "allCusines = []\n",
    "def cuisine_styles_count(row):\n",
    "    '''\n",
    "    Получаем количество кухонь\n",
    "    '''\n",
    "    global allCusines\n",
    "    cusines = get_cuisines(row['Cuisine Style'])\n",
    "    \n",
    "    if row['Cuisine Style'] != 'NaN':    \n",
    "        cusines = get_cuisines(row['Cuisine Style'])\n",
    "        allCusines.extend(cusines)\n",
    "        cuisines_count =len(cusines)\n",
    "    else:\n",
    "        cuisines_count = 1\n",
    "\n",
    "    return cuisines_count"
   ]
  },
  {
   "cell_type": "code",
   "execution_count": 11,
   "metadata": {},
   "outputs": [],
   "source": [
    "df = data\n",
    "df['Cuisine Style NAN'] = df['Cuisine Style'].isna()\n",
    "df['Cuisine Style'] = df['Cuisine Style'].fillna('NaN')\n",
    "df['Cuisines Count'] = df.apply(cuisine_styles_count, axis=1)\n",
    "\n",
    "most_popular_cusine = pd.Series(allCusines).value_counts().index[0]\n",
    "average_cousines_count = np.round(df['Cuisines Count'].mean(),1)"
   ]
  },
  {
   "cell_type": "code",
   "execution_count": 12,
   "metadata": {},
   "outputs": [
    {
     "data": {
      "text/plain": [
       "'Vegetarian Friendly'"
      ]
     },
     "execution_count": 12,
     "metadata": {},
     "output_type": "execute_result"
    }
   ],
   "source": [
    "most_popular_cusine"
   ]
  },
  {
   "cell_type": "code",
   "execution_count": 13,
   "metadata": {},
   "outputs": [
    {
     "data": {
      "text/plain": [
       "2.6"
      ]
     },
     "execution_count": 13,
     "metadata": {},
     "output_type": "execute_result"
    }
   ],
   "source": [
    "average_cousines_count"
   ]
  },
  {
   "cell_type": "code",
   "execution_count": 14,
   "metadata": {},
   "outputs": [
    {
     "data": {
      "text/plain": [
       "125"
      ]
     },
     "execution_count": 14,
     "metadata": {},
     "output_type": "execute_result"
    }
   ],
   "source": [
    "len(set(allCusines))"
   ]
  },
  {
   "cell_type": "code",
   "execution_count": 37,
   "metadata": {},
   "outputs": [],
   "source": [
    "CURRENT_DATE = pd.to_datetime('29/10/2020')"
   ]
  },
  {
   "cell_type": "code",
   "execution_count": 34,
   "metadata": {},
   "outputs": [
    {
     "name": "stdout",
     "output_type": "stream",
     "text": [
      "кол-во значений Reviews с тремя датами := 2\n"
     ]
    }
   ],
   "source": [
    "# вытащим дату из ревью и создадим новые критерии\n",
    "df['date_of_Review'] = df['Reviews'].str.findall('\\d+/\\d+/\\d+')\n",
    "df['len_date'] = df['date_of_Review'].apply(lambda x: len(x))\n",
    "\n",
    "print(\"кол-во значений Reviews с тремя датами :=\" , len(df[df['len_date']==3]))"
   ]
  },
  {
   "cell_type": "code",
   "execution_count": 36,
   "metadata": {},
   "outputs": [
    {
     "data": {
      "text/html": [
       "<div>\n",
       "<style scoped>\n",
       "    .dataframe tbody tr th:only-of-type {\n",
       "        vertical-align: middle;\n",
       "    }\n",
       "\n",
       "    .dataframe tbody tr th {\n",
       "        vertical-align: top;\n",
       "    }\n",
       "\n",
       "    .dataframe thead th {\n",
       "        text-align: right;\n",
       "    }\n",
       "</style>\n",
       "<table border=\"1\" class=\"dataframe\">\n",
       "  <thead>\n",
       "    <tr style=\"text-align: right;\">\n",
       "      <th></th>\n",
       "      <th>Restaurant_id</th>\n",
       "      <th>City</th>\n",
       "      <th>Cuisine Style</th>\n",
       "      <th>Ranking</th>\n",
       "      <th>Rating</th>\n",
       "      <th>Price Range</th>\n",
       "      <th>Number of Reviews</th>\n",
       "      <th>Reviews</th>\n",
       "      <th>URL_TA</th>\n",
       "      <th>ID_TA</th>\n",
       "      <th>Cuisine Style NAN</th>\n",
       "      <th>Cuisines Count</th>\n",
       "      <th>date_of_Review</th>\n",
       "      <th>len_date</th>\n",
       "    </tr>\n",
       "  </thead>\n",
       "  <tbody>\n",
       "    <tr>\n",
       "      <th>9254</th>\n",
       "      <td>id_12965</td>\n",
       "      <td>London</td>\n",
       "      <td>['Cafe', 'French']</td>\n",
       "      <td>12975.0</td>\n",
       "      <td>3.5</td>\n",
       "      <td>$$ - $$$</td>\n",
       "      <td>31.0</td>\n",
       "      <td>[['The desserts arcade !', 'Visit today 3/1/20...</td>\n",
       "      <td>/Restaurant_Review-g186338-d1017372-Reviews-Ma...</td>\n",
       "      <td>d1017372</td>\n",
       "      <td>False</td>\n",
       "      <td>2</td>\n",
       "      <td>[3/1/2017, 06/02/2017, 01/03/2017]</td>\n",
       "      <td>3</td>\n",
       "    </tr>\n",
       "    <tr>\n",
       "      <th>23348</th>\n",
       "      <td>id_450</td>\n",
       "      <td>Geneva</td>\n",
       "      <td>['French', 'European']</td>\n",
       "      <td>453.0</td>\n",
       "      <td>4.0</td>\n",
       "      <td>$$ - $$$</td>\n",
       "      <td>48.0</td>\n",
       "      <td>[['lunch 29/9/2016', 'Unplanned Great Dinner']...</td>\n",
       "      <td>/Restaurant_Review-g188057-d2706773-Reviews-Le...</td>\n",
       "      <td>d2706773</td>\n",
       "      <td>False</td>\n",
       "      <td>2</td>\n",
       "      <td>[29/9/2016, 09/30/2016, 08/25/2016]</td>\n",
       "      <td>3</td>\n",
       "    </tr>\n",
       "  </tbody>\n",
       "</table>\n",
       "</div>"
      ],
      "text/plain": [
       "      Restaurant_id    City           Cuisine Style  Ranking  Rating  \\\n",
       "9254       id_12965  London      ['Cafe', 'French']  12975.0     3.5   \n",
       "23348        id_450  Geneva  ['French', 'European']    453.0     4.0   \n",
       "\n",
       "      Price Range  Number of Reviews  \\\n",
       "9254     $$ - $$$               31.0   \n",
       "23348    $$ - $$$               48.0   \n",
       "\n",
       "                                                 Reviews  \\\n",
       "9254   [['The desserts arcade !', 'Visit today 3/1/20...   \n",
       "23348  [['lunch 29/9/2016', 'Unplanned Great Dinner']...   \n",
       "\n",
       "                                                  URL_TA     ID_TA  \\\n",
       "9254   /Restaurant_Review-g186338-d1017372-Reviews-Ma...  d1017372   \n",
       "23348  /Restaurant_Review-g188057-d2706773-Reviews-Le...  d2706773   \n",
       "\n",
       "       Cuisine Style NAN  Cuisines Count                       date_of_Review  \\\n",
       "9254               False               2   [3/1/2017, 06/02/2017, 01/03/2017]   \n",
       "23348              False               2  [29/9/2016, 09/30/2016, 08/25/2016]   \n",
       "\n",
       "       len_date  \n",
       "9254          3  \n",
       "23348         3  "
      ]
     },
     "execution_count": 36,
     "metadata": {},
     "output_type": "execute_result"
    }
   ],
   "source": [
    "df[df['len_date']==3]"
   ]
  },
  {
   "cell_type": "code",
   "execution_count": 38,
   "metadata": {},
   "outputs": [
    {
     "name": "stdout",
     "output_type": "stream",
     "text": [
      "значения Reviews с тремя датами :=\n"
     ]
    },
    {
     "data": {
      "text/plain": [
       "[\"[['The desserts arcade !', 'Visit today 3/1/2017'], ['06/02/2017', '01/03/2017']]\",\n",
       " \"[['lunch 29/9/2016', 'Unplanned Great Dinner'], ['09/30/2016', '08/25/2016']]\"]"
      ]
     },
     "metadata": {},
     "output_type": "display_data"
    }
   ],
   "source": [
    "print(\"значения Reviews с тремя датами :=\")\n",
    "temp_list = df[df['len_date']==3].Reviews.to_list()\n",
    "display(df[df['len_date']==3].Reviews.to_list())"
   ]
  },
  {
   "cell_type": "code",
   "execution_count": 39,
   "metadata": {},
   "outputs": [],
   "source": [
    "df['len_date'].date_of_Review = df[df['len_date']==3].date_of_Review.apply(lambda x: x.pop(0))"
   ]
  },
  {
   "cell_type": "code",
   "execution_count": 42,
   "metadata": {},
   "outputs": [
    {
     "name": "stdout",
     "output_type": "stream",
     "text": [
      "кол-во значений Reviews с одной датой := 4556\n"
     ]
    },
    {
     "data": {
      "text/plain": [
       "16    [['This is a real hidden Sushi-gem'], ['04/12/...\n",
       "26    [['Heavenly meat slices and craft beer too.'],...\n",
       "27    [['Good value canteen lunch stop.'], ['01/26/2...\n",
       "28                       [['Fab Food'], ['08/20/2011']]\n",
       "Name: Reviews, dtype: object"
      ]
     },
     "metadata": {},
     "output_type": "display_data"
    }
   ],
   "source": [
    "print(\"кол-во значений Reviews с одной датой :=\" , len(df[df['len_date']==1]))\n",
    "display(df[df['len_date']==1].Reviews[:4])"
   ]
  },
  {
   "cell_type": "code",
   "execution_count": 46,
   "metadata": {},
   "outputs": [],
   "source": [
    "df['one_Review'] = (df['len_date']==1).astype('float64')\n",
    "\n",
    "# заполним перерыв между отзывами (по отзывам где len = 2) и насколько давно был сделан последний самый свежий отзыв\n",
    "# создадим для этого функции:\n",
    "def time_to_now(row):\n",
    "    if row['date_of_Review'] == []:\n",
    "        return None\n",
    "    return dt.datetime.now() - pd.to_datetime(row['date_of_Review']).max()\n",
    "\n",
    "def time_between_Reviews(row):\n",
    "    if row['date_of_Review'] == []:\n",
    "        return None\n",
    "    return pd.to_datetime(row['date_of_Review']).max() - pd.to_datetime(row['date_of_Review']).min()\n",
    "\n",
    "df['day_to_now'] = df.apply(time_to_now, axis = 1).dt.days\n",
    "df['day_between_Reviews'] = df[df['len_date']==2].apply(time_between_Reviews, axis = 1).dt.days"
   ]
  },
  {
   "cell_type": "code",
   "execution_count": 47,
   "metadata": {},
   "outputs": [
    {
     "data": {
      "text/plain": [
       "3207.0"
      ]
     },
     "execution_count": 47,
     "metadata": {},
     "output_type": "execute_result"
    }
   ],
   "source": [
    "df['day_between_Reviews'].max()"
   ]
  },
  {
   "cell_type": "code",
   "execution_count": 49,
   "metadata": {},
   "outputs": [
    {
     "data": {
      "text/plain": [
       "1592     [02/26/2018, 07/24/2017]\n",
       "4000     [02/26/2018, 02/15/2018]\n",
       "5635     [02/26/2018, 01/02/2018]\n",
       "7866     [02/26/2018, 02/24/2018]\n",
       "8135     [02/26/2018, 02/04/2018]\n",
       "10600    [02/26/2018, 01/31/2018]\n",
       "12019    [02/26/2018, 01/11/2018]\n",
       "15088    [02/26/2018, 02/14/2018]\n",
       "17447    [02/26/2018, 02/09/2017]\n",
       "18511    [02/26/2018, 02/25/2018]\n",
       "19050    [02/26/2018, 02/15/2018]\n",
       "22263    [02/26/2018, 02/24/2018]\n",
       "22880    [02/26/2018, 02/24/2018]\n",
       "24797    [02/26/2018, 01/24/2018]\n",
       "25110    [02/26/2018, 02/24/2018]\n",
       "25943    [02/26/2018, 02/26/2018]\n",
       "26781    [02/26/2018, 02/22/2018]\n",
       "28928    [02/26/2018, 01/14/2018]\n",
       "29251    [02/26/2018, 02/23/2018]\n",
       "30334    [02/26/2018, 02/24/2018]\n",
       "33662    [02/26/2018, 05/01/2017]\n",
       "37663    [02/26/2018, 01/21/2018]\n",
       "37689    [02/26/2018, 05/31/2017]\n",
       "38749    [02/26/2018, 01/30/2017]\n",
       "Name: date_of_Review, dtype: object"
      ]
     },
     "execution_count": 49,
     "metadata": {},
     "output_type": "execute_result"
    }
   ],
   "source": [
    "df['date_of_Review'][df['day_to_now']==df['day_to_now'].min()]"
   ]
  },
  {
   "cell_type": "code",
   "execution_count": 50,
   "metadata": {},
   "outputs": [],
   "source": [
    "dic_value_Price = {'$':1,'$$ - $$$':2,'$$$$':3}\n",
    "df['Price_Range']=df['Price Range'].map(lambda x: dic_value_Price.get(x,x))\n",
    "\n",
    "# 18412 ресторанов это более 70% из заполненной информации имеют средний параметр цены\n",
    "# поэтому заполняем пропуски двойкой (2)\n",
    "df['Price_Range'] = df['Price_Range'].fillna(2)"
   ]
  },
  {
   "cell_type": "code",
   "execution_count": 51,
   "metadata": {},
   "outputs": [
    {
     "data": {
      "text/html": [
       "<div>\n",
       "<style scoped>\n",
       "    .dataframe tbody tr th:only-of-type {\n",
       "        vertical-align: middle;\n",
       "    }\n",
       "\n",
       "    .dataframe tbody tr th {\n",
       "        vertical-align: top;\n",
       "    }\n",
       "\n",
       "    .dataframe thead th {\n",
       "        text-align: right;\n",
       "    }\n",
       "</style>\n",
       "<table border=\"1\" class=\"dataframe\">\n",
       "  <thead>\n",
       "    <tr style=\"text-align: right;\">\n",
       "      <th></th>\n",
       "      <th>Restaurant_id</th>\n",
       "      <th>City</th>\n",
       "      <th>Cuisine Style</th>\n",
       "      <th>Ranking</th>\n",
       "      <th>Rating</th>\n",
       "      <th>Price Range</th>\n",
       "      <th>Number of Reviews</th>\n",
       "      <th>Reviews</th>\n",
       "      <th>URL_TA</th>\n",
       "      <th>ID_TA</th>\n",
       "      <th>Cuisine Style NAN</th>\n",
       "      <th>Cuisines Count</th>\n",
       "      <th>date_of_Review</th>\n",
       "      <th>len_date</th>\n",
       "      <th>one_Review</th>\n",
       "      <th>day_to_now</th>\n",
       "      <th>day_between_Reviews</th>\n",
       "      <th>Price_Range</th>\n",
       "    </tr>\n",
       "  </thead>\n",
       "  <tbody>\n",
       "    <tr>\n",
       "      <th>0</th>\n",
       "      <td>id_5569</td>\n",
       "      <td>Paris</td>\n",
       "      <td>['European', 'French', 'International']</td>\n",
       "      <td>5570.0</td>\n",
       "      <td>3.5</td>\n",
       "      <td>$$ - $$$</td>\n",
       "      <td>194.0</td>\n",
       "      <td>[['Good food at your doorstep', 'A good hotel ...</td>\n",
       "      <td>/Restaurant_Review-g187147-d1912643-Reviews-R_...</td>\n",
       "      <td>d1912643</td>\n",
       "      <td>False</td>\n",
       "      <td>3</td>\n",
       "      <td>[12/31/2017, 11/20/2017]</td>\n",
       "      <td>2</td>\n",
       "      <td>0.0</td>\n",
       "      <td>1033.0</td>\n",
       "      <td>41.0</td>\n",
       "      <td>2.0</td>\n",
       "    </tr>\n",
       "    <tr>\n",
       "      <th>1</th>\n",
       "      <td>id_1535</td>\n",
       "      <td>Stockholm</td>\n",
       "      <td>NaN</td>\n",
       "      <td>1537.0</td>\n",
       "      <td>4.0</td>\n",
       "      <td>NaN</td>\n",
       "      <td>10.0</td>\n",
       "      <td>[['Unique cuisine', 'Delicious Nepalese food']...</td>\n",
       "      <td>/Restaurant_Review-g189852-d7992032-Reviews-Bu...</td>\n",
       "      <td>d7992032</td>\n",
       "      <td>True</td>\n",
       "      <td>1</td>\n",
       "      <td>[07/06/2017, 06/19/2016]</td>\n",
       "      <td>2</td>\n",
       "      <td>0.0</td>\n",
       "      <td>1211.0</td>\n",
       "      <td>382.0</td>\n",
       "      <td>2.0</td>\n",
       "    </tr>\n",
       "    <tr>\n",
       "      <th>2</th>\n",
       "      <td>id_352</td>\n",
       "      <td>London</td>\n",
       "      <td>['Japanese', 'Sushi', 'Asian', 'Grill', 'Veget...</td>\n",
       "      <td>353.0</td>\n",
       "      <td>4.5</td>\n",
       "      <td>$$$$</td>\n",
       "      <td>688.0</td>\n",
       "      <td>[['Catch up with friends', 'Not exceptional'],...</td>\n",
       "      <td>/Restaurant_Review-g186338-d8632781-Reviews-RO...</td>\n",
       "      <td>d8632781</td>\n",
       "      <td>False</td>\n",
       "      <td>7</td>\n",
       "      <td>[01/08/2018, 01/06/2018]</td>\n",
       "      <td>2</td>\n",
       "      <td>0.0</td>\n",
       "      <td>1025.0</td>\n",
       "      <td>2.0</td>\n",
       "      <td>3.0</td>\n",
       "    </tr>\n",
       "    <tr>\n",
       "      <th>3</th>\n",
       "      <td>id_3456</td>\n",
       "      <td>Berlin</td>\n",
       "      <td>NaN</td>\n",
       "      <td>3458.0</td>\n",
       "      <td>5.0</td>\n",
       "      <td>NaN</td>\n",
       "      <td>3.0</td>\n",
       "      <td>[[], []]</td>\n",
       "      <td>/Restaurant_Review-g187323-d1358776-Reviews-Es...</td>\n",
       "      <td>d1358776</td>\n",
       "      <td>True</td>\n",
       "      <td>1</td>\n",
       "      <td>[]</td>\n",
       "      <td>0</td>\n",
       "      <td>0.0</td>\n",
       "      <td>NaN</td>\n",
       "      <td>NaN</td>\n",
       "      <td>2.0</td>\n",
       "    </tr>\n",
       "    <tr>\n",
       "      <th>4</th>\n",
       "      <td>id_615</td>\n",
       "      <td>Munich</td>\n",
       "      <td>['German', 'Central European', 'Vegetarian Fri...</td>\n",
       "      <td>621.0</td>\n",
       "      <td>4.0</td>\n",
       "      <td>$$ - $$$</td>\n",
       "      <td>84.0</td>\n",
       "      <td>[['Best place to try a Bavarian food', 'Nice b...</td>\n",
       "      <td>/Restaurant_Review-g187309-d6864963-Reviews-Au...</td>\n",
       "      <td>d6864963</td>\n",
       "      <td>False</td>\n",
       "      <td>3</td>\n",
       "      <td>[11/18/2017, 02/19/2017]</td>\n",
       "      <td>2</td>\n",
       "      <td>0.0</td>\n",
       "      <td>1076.0</td>\n",
       "      <td>272.0</td>\n",
       "      <td>2.0</td>\n",
       "    </tr>\n",
       "  </tbody>\n",
       "</table>\n",
       "</div>"
      ],
      "text/plain": [
       "  Restaurant_id       City                                      Cuisine Style  \\\n",
       "0       id_5569      Paris            ['European', 'French', 'International']   \n",
       "1       id_1535  Stockholm                                                NaN   \n",
       "2        id_352     London  ['Japanese', 'Sushi', 'Asian', 'Grill', 'Veget...   \n",
       "3       id_3456     Berlin                                                NaN   \n",
       "4        id_615     Munich  ['German', 'Central European', 'Vegetarian Fri...   \n",
       "\n",
       "   Ranking  Rating Price Range  Number of Reviews  \\\n",
       "0   5570.0     3.5    $$ - $$$              194.0   \n",
       "1   1537.0     4.0         NaN               10.0   \n",
       "2    353.0     4.5        $$$$              688.0   \n",
       "3   3458.0     5.0         NaN                3.0   \n",
       "4    621.0     4.0    $$ - $$$               84.0   \n",
       "\n",
       "                                             Reviews  \\\n",
       "0  [['Good food at your doorstep', 'A good hotel ...   \n",
       "1  [['Unique cuisine', 'Delicious Nepalese food']...   \n",
       "2  [['Catch up with friends', 'Not exceptional'],...   \n",
       "3                                           [[], []]   \n",
       "4  [['Best place to try a Bavarian food', 'Nice b...   \n",
       "\n",
       "                                              URL_TA     ID_TA  \\\n",
       "0  /Restaurant_Review-g187147-d1912643-Reviews-R_...  d1912643   \n",
       "1  /Restaurant_Review-g189852-d7992032-Reviews-Bu...  d7992032   \n",
       "2  /Restaurant_Review-g186338-d8632781-Reviews-RO...  d8632781   \n",
       "3  /Restaurant_Review-g187323-d1358776-Reviews-Es...  d1358776   \n",
       "4  /Restaurant_Review-g187309-d6864963-Reviews-Au...  d6864963   \n",
       "\n",
       "   Cuisine Style NAN  Cuisines Count            date_of_Review  len_date  \\\n",
       "0              False               3  [12/31/2017, 11/20/2017]         2   \n",
       "1               True               1  [07/06/2017, 06/19/2016]         2   \n",
       "2              False               7  [01/08/2018, 01/06/2018]         2   \n",
       "3               True               1                        []         0   \n",
       "4              False               3  [11/18/2017, 02/19/2017]         2   \n",
       "\n",
       "   one_Review  day_to_now  day_between_Reviews  Price_Range  \n",
       "0         0.0      1033.0                 41.0          2.0  \n",
       "1         0.0      1211.0                382.0          2.0  \n",
       "2         0.0      1025.0                  2.0          3.0  \n",
       "3         0.0         NaN                  NaN          2.0  \n",
       "4         0.0      1076.0                272.0          2.0  "
      ]
     },
     "execution_count": 51,
     "metadata": {},
     "output_type": "execute_result"
    }
   ],
   "source": [
    "df.head()"
   ]
  },
  {
   "cell_type": "code",
   "execution_count": 57,
   "metadata": {},
   "outputs": [
    {
     "name": "stdout",
     "output_type": "stream",
     "text": [
      "MAE: 0.3874485873015873\n"
     ]
    }
   ],
   "source": [
    "X = df[['Price_Range', 'Ranking', 'day_between_Reviews', 'one_Review',  'Cuisines Count','Number of Reviews']].fillna(0)\n",
    "y = df['Rating']\n",
    "from sklearn.model_selection import train_test_split\n",
    "from sklearn.ensemble import RandomForestRegressor # инструмент для создания и обучения модели\n",
    "from sklearn import metrics # инструменты для оценки точности модели\n",
    "X_train, X_test, y_train, y_test = train_test_split(X, y, test_size=0.25)\n",
    "# Создаём модель\n",
    "regr = RandomForestRegressor(n_estimators=100)\n",
    "\n",
    "# Обучаем модель на тестовом наборе данных\n",
    "regr.fit(X_train, y_train)\n",
    "\n",
    "# Используем обученную модель для предсказания рейтинга ресторанов в тестовой выборке.\n",
    "# Предсказанные значения записываем в переменную y_pred\n",
    "y_pred = regr.predict(X_test)\n",
    "print('MAE:', metrics.mean_absolute_error(y_test, y_pred))"
   ]
  },
  {
   "cell_type": "code",
   "execution_count": 58,
   "metadata": {},
   "outputs": [],
   "source": [
    "df.drop(['Restaurant_id','URL_TA', 'ID_TA'], axis = 1, inplace=True)"
   ]
  },
  {
   "cell_type": "code",
   "execution_count": 59,
   "metadata": {},
   "outputs": [],
   "source": [
    "df['isMostPopCusine'] = df['Cuisine Style'].apply(lambda x: 1 if most_popular_cusine in x else 0 )\n",
    "df['isMultyCusine'] = df['Cuisines Count'].apply(lambda x: 1 if  x >= average_cousines_count else 0 )"
   ]
  },
  {
   "cell_type": "code",
   "execution_count": 60,
   "metadata": {},
   "outputs": [
    {
     "data": {
      "text/html": [
       "<div>\n",
       "<style scoped>\n",
       "    .dataframe tbody tr th:only-of-type {\n",
       "        vertical-align: middle;\n",
       "    }\n",
       "\n",
       "    .dataframe tbody tr th {\n",
       "        vertical-align: top;\n",
       "    }\n",
       "\n",
       "    .dataframe thead th {\n",
       "        text-align: right;\n",
       "    }\n",
       "</style>\n",
       "<table border=\"1\" class=\"dataframe\">\n",
       "  <thead>\n",
       "    <tr style=\"text-align: right;\">\n",
       "      <th></th>\n",
       "      <th>City</th>\n",
       "      <th>Cuisine Style</th>\n",
       "      <th>Ranking</th>\n",
       "      <th>Rating</th>\n",
       "      <th>Price Range</th>\n",
       "      <th>Number of Reviews</th>\n",
       "      <th>Reviews</th>\n",
       "      <th>Cuisine Style NAN</th>\n",
       "      <th>Cuisines Count</th>\n",
       "      <th>date_of_Review</th>\n",
       "      <th>len_date</th>\n",
       "      <th>one_Review</th>\n",
       "      <th>day_to_now</th>\n",
       "      <th>day_between_Reviews</th>\n",
       "      <th>Price_Range</th>\n",
       "      <th>isMostPopCusine</th>\n",
       "      <th>isMultyCusine</th>\n",
       "    </tr>\n",
       "  </thead>\n",
       "  <tbody>\n",
       "    <tr>\n",
       "      <th>0</th>\n",
       "      <td>Paris</td>\n",
       "      <td>['European', 'French', 'International']</td>\n",
       "      <td>5570.0</td>\n",
       "      <td>3.5</td>\n",
       "      <td>$$ - $$$</td>\n",
       "      <td>194.0</td>\n",
       "      <td>[['Good food at your doorstep', 'A good hotel ...</td>\n",
       "      <td>False</td>\n",
       "      <td>3</td>\n",
       "      <td>[12/31/2017, 11/20/2017]</td>\n",
       "      <td>2</td>\n",
       "      <td>0.0</td>\n",
       "      <td>1033.0</td>\n",
       "      <td>41.0</td>\n",
       "      <td>2.0</td>\n",
       "      <td>0</td>\n",
       "      <td>1</td>\n",
       "    </tr>\n",
       "    <tr>\n",
       "      <th>1</th>\n",
       "      <td>Stockholm</td>\n",
       "      <td>NaN</td>\n",
       "      <td>1537.0</td>\n",
       "      <td>4.0</td>\n",
       "      <td>NaN</td>\n",
       "      <td>10.0</td>\n",
       "      <td>[['Unique cuisine', 'Delicious Nepalese food']...</td>\n",
       "      <td>True</td>\n",
       "      <td>1</td>\n",
       "      <td>[07/06/2017, 06/19/2016]</td>\n",
       "      <td>2</td>\n",
       "      <td>0.0</td>\n",
       "      <td>1211.0</td>\n",
       "      <td>382.0</td>\n",
       "      <td>2.0</td>\n",
       "      <td>0</td>\n",
       "      <td>0</td>\n",
       "    </tr>\n",
       "    <tr>\n",
       "      <th>2</th>\n",
       "      <td>London</td>\n",
       "      <td>['Japanese', 'Sushi', 'Asian', 'Grill', 'Veget...</td>\n",
       "      <td>353.0</td>\n",
       "      <td>4.5</td>\n",
       "      <td>$$$$</td>\n",
       "      <td>688.0</td>\n",
       "      <td>[['Catch up with friends', 'Not exceptional'],...</td>\n",
       "      <td>False</td>\n",
       "      <td>7</td>\n",
       "      <td>[01/08/2018, 01/06/2018]</td>\n",
       "      <td>2</td>\n",
       "      <td>0.0</td>\n",
       "      <td>1025.0</td>\n",
       "      <td>2.0</td>\n",
       "      <td>3.0</td>\n",
       "      <td>1</td>\n",
       "      <td>1</td>\n",
       "    </tr>\n",
       "    <tr>\n",
       "      <th>3</th>\n",
       "      <td>Berlin</td>\n",
       "      <td>NaN</td>\n",
       "      <td>3458.0</td>\n",
       "      <td>5.0</td>\n",
       "      <td>NaN</td>\n",
       "      <td>3.0</td>\n",
       "      <td>[[], []]</td>\n",
       "      <td>True</td>\n",
       "      <td>1</td>\n",
       "      <td>[]</td>\n",
       "      <td>0</td>\n",
       "      <td>0.0</td>\n",
       "      <td>NaN</td>\n",
       "      <td>NaN</td>\n",
       "      <td>2.0</td>\n",
       "      <td>0</td>\n",
       "      <td>0</td>\n",
       "    </tr>\n",
       "    <tr>\n",
       "      <th>4</th>\n",
       "      <td>Munich</td>\n",
       "      <td>['German', 'Central European', 'Vegetarian Fri...</td>\n",
       "      <td>621.0</td>\n",
       "      <td>4.0</td>\n",
       "      <td>$$ - $$$</td>\n",
       "      <td>84.0</td>\n",
       "      <td>[['Best place to try a Bavarian food', 'Nice b...</td>\n",
       "      <td>False</td>\n",
       "      <td>3</td>\n",
       "      <td>[11/18/2017, 02/19/2017]</td>\n",
       "      <td>2</td>\n",
       "      <td>0.0</td>\n",
       "      <td>1076.0</td>\n",
       "      <td>272.0</td>\n",
       "      <td>2.0</td>\n",
       "      <td>1</td>\n",
       "      <td>1</td>\n",
       "    </tr>\n",
       "    <tr>\n",
       "      <th>...</th>\n",
       "      <td>...</td>\n",
       "      <td>...</td>\n",
       "      <td>...</td>\n",
       "      <td>...</td>\n",
       "      <td>...</td>\n",
       "      <td>...</td>\n",
       "      <td>...</td>\n",
       "      <td>...</td>\n",
       "      <td>...</td>\n",
       "      <td>...</td>\n",
       "      <td>...</td>\n",
       "      <td>...</td>\n",
       "      <td>...</td>\n",
       "      <td>...</td>\n",
       "      <td>...</td>\n",
       "      <td>...</td>\n",
       "      <td>...</td>\n",
       "    </tr>\n",
       "    <tr>\n",
       "      <th>39995</th>\n",
       "      <td>Milan</td>\n",
       "      <td>['Italian', 'Vegetarian Friendly', 'Vegan Opti...</td>\n",
       "      <td>500.0</td>\n",
       "      <td>4.5</td>\n",
       "      <td>$$ - $$$</td>\n",
       "      <td>79.0</td>\n",
       "      <td>[['The real Italian experience!', 'Wonderful f...</td>\n",
       "      <td>False</td>\n",
       "      <td>4</td>\n",
       "      <td>[12/16/2017, 11/12/2017]</td>\n",
       "      <td>2</td>\n",
       "      <td>0.0</td>\n",
       "      <td>1048.0</td>\n",
       "      <td>34.0</td>\n",
       "      <td>2.0</td>\n",
       "      <td>1</td>\n",
       "      <td>1</td>\n",
       "    </tr>\n",
       "    <tr>\n",
       "      <th>39996</th>\n",
       "      <td>Paris</td>\n",
       "      <td>['French', 'American', 'Bar', 'European', 'Veg...</td>\n",
       "      <td>6341.0</td>\n",
       "      <td>3.5</td>\n",
       "      <td>$$ - $$$</td>\n",
       "      <td>542.0</td>\n",
       "      <td>[['Parisian atmosphere', 'Bit pricey but inter...</td>\n",
       "      <td>False</td>\n",
       "      <td>5</td>\n",
       "      <td>[12/21/2017, 12/12/2017]</td>\n",
       "      <td>2</td>\n",
       "      <td>0.0</td>\n",
       "      <td>1043.0</td>\n",
       "      <td>9.0</td>\n",
       "      <td>2.0</td>\n",
       "      <td>1</td>\n",
       "      <td>1</td>\n",
       "    </tr>\n",
       "    <tr>\n",
       "      <th>39997</th>\n",
       "      <td>Stockholm</td>\n",
       "      <td>['Japanese', 'Sushi']</td>\n",
       "      <td>1652.0</td>\n",
       "      <td>4.5</td>\n",
       "      <td>NaN</td>\n",
       "      <td>4.0</td>\n",
       "      <td>[['Good by swedish standards', 'A hidden jewel...</td>\n",
       "      <td>False</td>\n",
       "      <td>2</td>\n",
       "      <td>[11/03/2016, 04/12/2008]</td>\n",
       "      <td>2</td>\n",
       "      <td>0.0</td>\n",
       "      <td>1456.0</td>\n",
       "      <td>3127.0</td>\n",
       "      <td>2.0</td>\n",
       "      <td>0</td>\n",
       "      <td>0</td>\n",
       "    </tr>\n",
       "    <tr>\n",
       "      <th>39998</th>\n",
       "      <td>Warsaw</td>\n",
       "      <td>['Polish', 'European', 'Eastern European', 'Ce...</td>\n",
       "      <td>641.0</td>\n",
       "      <td>4.0</td>\n",
       "      <td>$$ - $$$</td>\n",
       "      <td>70.0</td>\n",
       "      <td>[['Underground restaurant', 'Oldest Restaurant...</td>\n",
       "      <td>False</td>\n",
       "      <td>5</td>\n",
       "      <td>[07/11/2017, 06/18/2017]</td>\n",
       "      <td>2</td>\n",
       "      <td>0.0</td>\n",
       "      <td>1206.0</td>\n",
       "      <td>23.0</td>\n",
       "      <td>2.0</td>\n",
       "      <td>1</td>\n",
       "      <td>1</td>\n",
       "    </tr>\n",
       "    <tr>\n",
       "      <th>39999</th>\n",
       "      <td>Milan</td>\n",
       "      <td>['Spanish']</td>\n",
       "      <td>4827.0</td>\n",
       "      <td>3.0</td>\n",
       "      <td>$$ - $$$</td>\n",
       "      <td>260.0</td>\n",
       "      <td>[['Average', 'Nice an informal'], ['01/31/2016...</td>\n",
       "      <td>False</td>\n",
       "      <td>1</td>\n",
       "      <td>[01/31/2016, 07/04/2012]</td>\n",
       "      <td>2</td>\n",
       "      <td>0.0</td>\n",
       "      <td>1733.0</td>\n",
       "      <td>1306.0</td>\n",
       "      <td>2.0</td>\n",
       "      <td>0</td>\n",
       "      <td>0</td>\n",
       "    </tr>\n",
       "  </tbody>\n",
       "</table>\n",
       "<p>40000 rows × 17 columns</p>\n",
       "</div>"
      ],
      "text/plain": [
       "            City                                      Cuisine Style  Ranking  \\\n",
       "0          Paris            ['European', 'French', 'International']   5570.0   \n",
       "1      Stockholm                                                NaN   1537.0   \n",
       "2         London  ['Japanese', 'Sushi', 'Asian', 'Grill', 'Veget...    353.0   \n",
       "3         Berlin                                                NaN   3458.0   \n",
       "4         Munich  ['German', 'Central European', 'Vegetarian Fri...    621.0   \n",
       "...          ...                                                ...      ...   \n",
       "39995      Milan  ['Italian', 'Vegetarian Friendly', 'Vegan Opti...    500.0   \n",
       "39996      Paris  ['French', 'American', 'Bar', 'European', 'Veg...   6341.0   \n",
       "39997  Stockholm                              ['Japanese', 'Sushi']   1652.0   \n",
       "39998     Warsaw  ['Polish', 'European', 'Eastern European', 'Ce...    641.0   \n",
       "39999      Milan                                        ['Spanish']   4827.0   \n",
       "\n",
       "       Rating Price Range  Number of Reviews  \\\n",
       "0         3.5    $$ - $$$              194.0   \n",
       "1         4.0         NaN               10.0   \n",
       "2         4.5        $$$$              688.0   \n",
       "3         5.0         NaN                3.0   \n",
       "4         4.0    $$ - $$$               84.0   \n",
       "...       ...         ...                ...   \n",
       "39995     4.5    $$ - $$$               79.0   \n",
       "39996     3.5    $$ - $$$              542.0   \n",
       "39997     4.5         NaN                4.0   \n",
       "39998     4.0    $$ - $$$               70.0   \n",
       "39999     3.0    $$ - $$$              260.0   \n",
       "\n",
       "                                                 Reviews  Cuisine Style NAN  \\\n",
       "0      [['Good food at your doorstep', 'A good hotel ...              False   \n",
       "1      [['Unique cuisine', 'Delicious Nepalese food']...               True   \n",
       "2      [['Catch up with friends', 'Not exceptional'],...              False   \n",
       "3                                               [[], []]               True   \n",
       "4      [['Best place to try a Bavarian food', 'Nice b...              False   \n",
       "...                                                  ...                ...   \n",
       "39995  [['The real Italian experience!', 'Wonderful f...              False   \n",
       "39996  [['Parisian atmosphere', 'Bit pricey but inter...              False   \n",
       "39997  [['Good by swedish standards', 'A hidden jewel...              False   \n",
       "39998  [['Underground restaurant', 'Oldest Restaurant...              False   \n",
       "39999  [['Average', 'Nice an informal'], ['01/31/2016...              False   \n",
       "\n",
       "       Cuisines Count            date_of_Review  len_date  one_Review  \\\n",
       "0                   3  [12/31/2017, 11/20/2017]         2         0.0   \n",
       "1                   1  [07/06/2017, 06/19/2016]         2         0.0   \n",
       "2                   7  [01/08/2018, 01/06/2018]         2         0.0   \n",
       "3                   1                        []         0         0.0   \n",
       "4                   3  [11/18/2017, 02/19/2017]         2         0.0   \n",
       "...               ...                       ...       ...         ...   \n",
       "39995               4  [12/16/2017, 11/12/2017]         2         0.0   \n",
       "39996               5  [12/21/2017, 12/12/2017]         2         0.0   \n",
       "39997               2  [11/03/2016, 04/12/2008]         2         0.0   \n",
       "39998               5  [07/11/2017, 06/18/2017]         2         0.0   \n",
       "39999               1  [01/31/2016, 07/04/2012]         2         0.0   \n",
       "\n",
       "       day_to_now  day_between_Reviews  Price_Range  isMostPopCusine  \\\n",
       "0          1033.0                 41.0          2.0                0   \n",
       "1          1211.0                382.0          2.0                0   \n",
       "2          1025.0                  2.0          3.0                1   \n",
       "3             NaN                  NaN          2.0                0   \n",
       "4          1076.0                272.0          2.0                1   \n",
       "...           ...                  ...          ...              ...   \n",
       "39995      1048.0                 34.0          2.0                1   \n",
       "39996      1043.0                  9.0          2.0                1   \n",
       "39997      1456.0               3127.0          2.0                0   \n",
       "39998      1206.0                 23.0          2.0                1   \n",
       "39999      1733.0               1306.0          2.0                0   \n",
       "\n",
       "       isMultyCusine  \n",
       "0                  1  \n",
       "1                  0  \n",
       "2                  1  \n",
       "3                  0  \n",
       "4                  1  \n",
       "...              ...  \n",
       "39995              1  \n",
       "39996              1  \n",
       "39997              0  \n",
       "39998              1  \n",
       "39999              0  \n",
       "\n",
       "[40000 rows x 17 columns]"
      ]
     },
     "execution_count": 60,
     "metadata": {},
     "output_type": "execute_result"
    }
   ],
   "source": [
    "df"
   ]
  },
  {
   "cell_type": "code",
   "execution_count": 61,
   "metadata": {},
   "outputs": [],
   "source": [
    "df_City_dummies = pd.get_dummies(df['City'], dummy_na=False).astype('float64')\n",
    "df = pd.concat([df,df_City_dummies], axis=1)"
   ]
  },
  {
   "cell_type": "code",
   "execution_count": 66,
   "metadata": {},
   "outputs": [],
   "source": [
    "X = df.drop(['City', 'Cuisine Style', 'Price Range', 'Reviews', 'Cuisine Style NAN', 'date_of_Review','Rating'], axis = 1).fillna(0)\n",
    "y = df['Rating']"
   ]
  },
  {
   "cell_type": "code",
   "execution_count": 67,
   "metadata": {},
   "outputs": [
    {
     "name": "stdout",
     "output_type": "stream",
     "text": [
      "MAE: 0.21347149999999998\n"
     ]
    }
   ],
   "source": [
    "X_train, X_test, y_train, y_test = train_test_split(X, y, test_size=0.25)\n",
    "# Создаём модель\n",
    "regr = RandomForestRegressor(n_estimators=100)\n",
    "\n",
    "# Обучаем модель на тестовом наборе данных\n",
    "regr.fit(X_train, y_train)\n",
    "\n",
    "# Используем обученную модель для предсказания рейтинга ресторанов в тестовой выборке.\n",
    "# Предсказанные значения записываем в переменную y_pred\n",
    "y_pred = regr.predict(X_test)\n",
    "print('MAE:', metrics.mean_absolute_error(y_test, y_pred))"
   ]
  },
  {
   "cell_type": "code",
   "execution_count": null,
   "metadata": {},
   "outputs": [],
   "source": []
  }
 ],
 "metadata": {
  "kernelspec": {
   "display_name": "Python 3",
   "language": "python",
   "name": "python3"
  },
  "language_info": {
   "codemirror_mode": {
    "name": "ipython",
    "version": 3
   },
   "file_extension": ".py",
   "mimetype": "text/x-python",
   "name": "python",
   "nbconvert_exporter": "python",
   "pygments_lexer": "ipython3",
   "version": "3.8.3"
  }
 },
 "nbformat": 4,
 "nbformat_minor": 4
}
