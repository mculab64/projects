{
 "cells": [
  {
   "cell_type": "code",
   "execution_count": 1,
   "metadata": {},
   "outputs": [],
   "source": [
    "import pandas as pd\n",
    "import numpy as np\n",
    "import json\n",
    "import datetime as dt\n",
    "import matplotlib.pyplot as plt\n",
    "import seaborn as sns\n",
    "%matplotlib inline\n",
    "from sklearn.model_selection import train_test_split\n",
    "from sklearn.ensemble import RandomForestRegressor \n",
    "from sklearn import metrics"
   ]
  },
  {
   "cell_type": "code",
   "execution_count": 2,
   "metadata": {},
   "outputs": [],
   "source": [
    "data = pd.read_csv('main_task.csv')"
   ]
  },
  {
   "cell_type": "code",
   "execution_count": 3,
   "metadata": {},
   "outputs": [
    {
     "data": {
      "text/html": [
       "<div>\n",
       "<style scoped>\n",
       "    .dataframe tbody tr th:only-of-type {\n",
       "        vertical-align: middle;\n",
       "    }\n",
       "\n",
       "    .dataframe tbody tr th {\n",
       "        vertical-align: top;\n",
       "    }\n",
       "\n",
       "    .dataframe thead th {\n",
       "        text-align: right;\n",
       "    }\n",
       "</style>\n",
       "<table border=\"1\" class=\"dataframe\">\n",
       "  <thead>\n",
       "    <tr style=\"text-align: right;\">\n",
       "      <th></th>\n",
       "      <th>Restaurant_id</th>\n",
       "      <th>City</th>\n",
       "      <th>Cuisine Style</th>\n",
       "      <th>Ranking</th>\n",
       "      <th>Rating</th>\n",
       "      <th>Price Range</th>\n",
       "      <th>Number of Reviews</th>\n",
       "      <th>Reviews</th>\n",
       "      <th>URL_TA</th>\n",
       "      <th>ID_TA</th>\n",
       "    </tr>\n",
       "  </thead>\n",
       "  <tbody>\n",
       "    <tr>\n",
       "      <th>0</th>\n",
       "      <td>id_5569</td>\n",
       "      <td>Paris</td>\n",
       "      <td>['European', 'French', 'International']</td>\n",
       "      <td>5570.0</td>\n",
       "      <td>3.5</td>\n",
       "      <td>$$ - $$$</td>\n",
       "      <td>194.0</td>\n",
       "      <td>[['Good food at your doorstep', 'A good hotel ...</td>\n",
       "      <td>/Restaurant_Review-g187147-d1912643-Reviews-R_...</td>\n",
       "      <td>d1912643</td>\n",
       "    </tr>\n",
       "    <tr>\n",
       "      <th>1</th>\n",
       "      <td>id_1535</td>\n",
       "      <td>Stockholm</td>\n",
       "      <td>NaN</td>\n",
       "      <td>1537.0</td>\n",
       "      <td>4.0</td>\n",
       "      <td>NaN</td>\n",
       "      <td>10.0</td>\n",
       "      <td>[['Unique cuisine', 'Delicious Nepalese food']...</td>\n",
       "      <td>/Restaurant_Review-g189852-d7992032-Reviews-Bu...</td>\n",
       "      <td>d7992032</td>\n",
       "    </tr>\n",
       "    <tr>\n",
       "      <th>2</th>\n",
       "      <td>id_352</td>\n",
       "      <td>London</td>\n",
       "      <td>['Japanese', 'Sushi', 'Asian', 'Grill', 'Veget...</td>\n",
       "      <td>353.0</td>\n",
       "      <td>4.5</td>\n",
       "      <td>$$$$</td>\n",
       "      <td>688.0</td>\n",
       "      <td>[['Catch up with friends', 'Not exceptional'],...</td>\n",
       "      <td>/Restaurant_Review-g186338-d8632781-Reviews-RO...</td>\n",
       "      <td>d8632781</td>\n",
       "    </tr>\n",
       "    <tr>\n",
       "      <th>3</th>\n",
       "      <td>id_3456</td>\n",
       "      <td>Berlin</td>\n",
       "      <td>NaN</td>\n",
       "      <td>3458.0</td>\n",
       "      <td>5.0</td>\n",
       "      <td>NaN</td>\n",
       "      <td>3.0</td>\n",
       "      <td>[[], []]</td>\n",
       "      <td>/Restaurant_Review-g187323-d1358776-Reviews-Es...</td>\n",
       "      <td>d1358776</td>\n",
       "    </tr>\n",
       "    <tr>\n",
       "      <th>4</th>\n",
       "      <td>id_615</td>\n",
       "      <td>Munich</td>\n",
       "      <td>['German', 'Central European', 'Vegetarian Fri...</td>\n",
       "      <td>621.0</td>\n",
       "      <td>4.0</td>\n",
       "      <td>$$ - $$$</td>\n",
       "      <td>84.0</td>\n",
       "      <td>[['Best place to try a Bavarian food', 'Nice b...</td>\n",
       "      <td>/Restaurant_Review-g187309-d6864963-Reviews-Au...</td>\n",
       "      <td>d6864963</td>\n",
       "    </tr>\n",
       "  </tbody>\n",
       "</table>\n",
       "</div>"
      ],
      "text/plain": [
       "  Restaurant_id       City                                      Cuisine Style  \\\n",
       "0       id_5569      Paris            ['European', 'French', 'International']   \n",
       "1       id_1535  Stockholm                                                NaN   \n",
       "2        id_352     London  ['Japanese', 'Sushi', 'Asian', 'Grill', 'Veget...   \n",
       "3       id_3456     Berlin                                                NaN   \n",
       "4        id_615     Munich  ['German', 'Central European', 'Vegetarian Fri...   \n",
       "\n",
       "   Ranking  Rating Price Range  Number of Reviews  \\\n",
       "0   5570.0     3.5    $$ - $$$              194.0   \n",
       "1   1537.0     4.0         NaN               10.0   \n",
       "2    353.0     4.5        $$$$              688.0   \n",
       "3   3458.0     5.0         NaN                3.0   \n",
       "4    621.0     4.0    $$ - $$$               84.0   \n",
       "\n",
       "                                             Reviews  \\\n",
       "0  [['Good food at your doorstep', 'A good hotel ...   \n",
       "1  [['Unique cuisine', 'Delicious Nepalese food']...   \n",
       "2  [['Catch up with friends', 'Not exceptional'],...   \n",
       "3                                           [[], []]   \n",
       "4  [['Best place to try a Bavarian food', 'Nice b...   \n",
       "\n",
       "                                              URL_TA     ID_TA  \n",
       "0  /Restaurant_Review-g187147-d1912643-Reviews-R_...  d1912643  \n",
       "1  /Restaurant_Review-g189852-d7992032-Reviews-Bu...  d7992032  \n",
       "2  /Restaurant_Review-g186338-d8632781-Reviews-RO...  d8632781  \n",
       "3  /Restaurant_Review-g187323-d1358776-Reviews-Es...  d1358776  \n",
       "4  /Restaurant_Review-g187309-d6864963-Reviews-Au...  d6864963  "
      ]
     },
     "execution_count": 3,
     "metadata": {},
     "output_type": "execute_result"
    }
   ],
   "source": [
    "data.head()"
   ]
  },
  {
   "cell_type": "code",
   "execution_count": 4,
   "metadata": {},
   "outputs": [],
   "source": [
    "data.drop(['Restaurant_id','URL_TA', 'ID_TA'], axis = 1, inplace=True)"
   ]
  },
  {
   "cell_type": "code",
   "execution_count": 5,
   "metadata": {},
   "outputs": [
    {
     "data": {
      "text/html": [
       "<div>\n",
       "<style scoped>\n",
       "    .dataframe tbody tr th:only-of-type {\n",
       "        vertical-align: middle;\n",
       "    }\n",
       "\n",
       "    .dataframe tbody tr th {\n",
       "        vertical-align: top;\n",
       "    }\n",
       "\n",
       "    .dataframe thead th {\n",
       "        text-align: right;\n",
       "    }\n",
       "</style>\n",
       "<table border=\"1\" class=\"dataframe\">\n",
       "  <thead>\n",
       "    <tr style=\"text-align: right;\">\n",
       "      <th></th>\n",
       "      <th>City</th>\n",
       "      <th>Cuisine Style</th>\n",
       "      <th>Ranking</th>\n",
       "      <th>Rating</th>\n",
       "      <th>Price Range</th>\n",
       "      <th>Number of Reviews</th>\n",
       "      <th>Reviews</th>\n",
       "    </tr>\n",
       "  </thead>\n",
       "  <tbody>\n",
       "    <tr>\n",
       "      <th>0</th>\n",
       "      <td>Paris</td>\n",
       "      <td>['European', 'French', 'International']</td>\n",
       "      <td>5570.0</td>\n",
       "      <td>3.5</td>\n",
       "      <td>$$ - $$$</td>\n",
       "      <td>194.0</td>\n",
       "      <td>[['Good food at your doorstep', 'A good hotel ...</td>\n",
       "    </tr>\n",
       "    <tr>\n",
       "      <th>1</th>\n",
       "      <td>Stockholm</td>\n",
       "      <td>NaN</td>\n",
       "      <td>1537.0</td>\n",
       "      <td>4.0</td>\n",
       "      <td>NaN</td>\n",
       "      <td>10.0</td>\n",
       "      <td>[['Unique cuisine', 'Delicious Nepalese food']...</td>\n",
       "    </tr>\n",
       "    <tr>\n",
       "      <th>2</th>\n",
       "      <td>London</td>\n",
       "      <td>['Japanese', 'Sushi', 'Asian', 'Grill', 'Veget...</td>\n",
       "      <td>353.0</td>\n",
       "      <td>4.5</td>\n",
       "      <td>$$$$</td>\n",
       "      <td>688.0</td>\n",
       "      <td>[['Catch up with friends', 'Not exceptional'],...</td>\n",
       "    </tr>\n",
       "    <tr>\n",
       "      <th>3</th>\n",
       "      <td>Berlin</td>\n",
       "      <td>NaN</td>\n",
       "      <td>3458.0</td>\n",
       "      <td>5.0</td>\n",
       "      <td>NaN</td>\n",
       "      <td>3.0</td>\n",
       "      <td>[[], []]</td>\n",
       "    </tr>\n",
       "    <tr>\n",
       "      <th>4</th>\n",
       "      <td>Munich</td>\n",
       "      <td>['German', 'Central European', 'Vegetarian Fri...</td>\n",
       "      <td>621.0</td>\n",
       "      <td>4.0</td>\n",
       "      <td>$$ - $$$</td>\n",
       "      <td>84.0</td>\n",
       "      <td>[['Best place to try a Bavarian food', 'Nice b...</td>\n",
       "    </tr>\n",
       "  </tbody>\n",
       "</table>\n",
       "</div>"
      ],
      "text/plain": [
       "        City                                      Cuisine Style  Ranking  \\\n",
       "0      Paris            ['European', 'French', 'International']   5570.0   \n",
       "1  Stockholm                                                NaN   1537.0   \n",
       "2     London  ['Japanese', 'Sushi', 'Asian', 'Grill', 'Veget...    353.0   \n",
       "3     Berlin                                                NaN   3458.0   \n",
       "4     Munich  ['German', 'Central European', 'Vegetarian Fri...    621.0   \n",
       "\n",
       "   Rating Price Range  Number of Reviews  \\\n",
       "0     3.5    $$ - $$$              194.0   \n",
       "1     4.0         NaN               10.0   \n",
       "2     4.5        $$$$              688.0   \n",
       "3     5.0         NaN                3.0   \n",
       "4     4.0    $$ - $$$               84.0   \n",
       "\n",
       "                                             Reviews  \n",
       "0  [['Good food at your doorstep', 'A good hotel ...  \n",
       "1  [['Unique cuisine', 'Delicious Nepalese food']...  \n",
       "2  [['Catch up with friends', 'Not exceptional'],...  \n",
       "3                                           [[], []]  \n",
       "4  [['Best place to try a Bavarian food', 'Nice b...  "
      ]
     },
     "execution_count": 5,
     "metadata": {},
     "output_type": "execute_result"
    }
   ],
   "source": [
    "data.head()"
   ]
  },
  {
   "cell_type": "code",
   "execution_count": 6,
   "metadata": {},
   "outputs": [],
   "source": [
    "def get_cuisines(cuisines):\n",
    "    '''\n",
    "    Получаем список кухонь в виде:\n",
    "    cuisines[0] - list of cusines\n",
    "    если был NaN, то возвращается 'Regionl Cusine' -как самая популярная в регионе/городе/стране\n",
    "    '''\n",
    "    if cuisines == 'NaN': return ['Regionl Cusine']#['Vegetarian Friendly'] # 'Vegetarian Friendly' - самая популярная\n",
    "    if  cuisines:\n",
    "        cuisines = str(cuisines).replace(\"'\",'\"')\n",
    "        return json.loads(cuisines)\n",
    "    else:\n",
    "        return ['Regionl Cusine'] #return ['Vegetarian Friendly']"
   ]
  },
  {
   "cell_type": "code",
   "execution_count": 7,
   "metadata": {},
   "outputs": [],
   "source": [
    "allCusines = []\n",
    "def cuisine_styles_count(row):\n",
    "    '''\n",
    "    Получаем количество кухонь\n",
    "    '''\n",
    "    global allCusines\n",
    "    cusines = get_cuisines(row['Cuisine Style'])\n",
    "    \n",
    "    if row['Cuisine Style'] != 'NaN':    \n",
    "        cusines = get_cuisines(row['Cuisine Style'])\n",
    "        allCusines.extend(cusines)\n",
    "        cuisines_count =len(cusines)\n",
    "    else:\n",
    "        cuisines_count = 1\n",
    "\n",
    "    return cuisines_count"
   ]
  },
  {
   "cell_type": "code",
   "execution_count": 8,
   "metadata": {},
   "outputs": [],
   "source": [
    "df = data\n",
    "\n",
    "df['Cuisine Style'] = df['Cuisine Style'].fillna('NaN')\n",
    "df['Cuisine Style NAN'] = df['Cuisine Style'].apply(lambda x: 1 if x =='NaN' else 0)\n",
    "df['Cuisines Count'] = df.apply(cuisine_styles_count, axis=1)\n",
    "\n",
    "most_popular_cusine = pd.Series(allCusines).value_counts().index[0]\n",
    "average_cousines_count = np.round(df['Cuisines Count'].mean(),1)"
   ]
  },
  {
   "cell_type": "code",
   "execution_count": 9,
   "metadata": {},
   "outputs": [
    {
     "data": {
      "text/html": [
       "<div>\n",
       "<style scoped>\n",
       "    .dataframe tbody tr th:only-of-type {\n",
       "        vertical-align: middle;\n",
       "    }\n",
       "\n",
       "    .dataframe tbody tr th {\n",
       "        vertical-align: top;\n",
       "    }\n",
       "\n",
       "    .dataframe thead th {\n",
       "        text-align: right;\n",
       "    }\n",
       "</style>\n",
       "<table border=\"1\" class=\"dataframe\">\n",
       "  <thead>\n",
       "    <tr style=\"text-align: right;\">\n",
       "      <th></th>\n",
       "      <th>City</th>\n",
       "      <th>Cuisine Style</th>\n",
       "      <th>Ranking</th>\n",
       "      <th>Rating</th>\n",
       "      <th>Price Range</th>\n",
       "      <th>Number of Reviews</th>\n",
       "      <th>Reviews</th>\n",
       "      <th>Cuisine Style NAN</th>\n",
       "      <th>Cuisines Count</th>\n",
       "    </tr>\n",
       "  </thead>\n",
       "  <tbody>\n",
       "    <tr>\n",
       "      <th>0</th>\n",
       "      <td>Paris</td>\n",
       "      <td>['European', 'French', 'International']</td>\n",
       "      <td>5570.0</td>\n",
       "      <td>3.5</td>\n",
       "      <td>$$ - $$$</td>\n",
       "      <td>194.0</td>\n",
       "      <td>[['Good food at your doorstep', 'A good hotel ...</td>\n",
       "      <td>0</td>\n",
       "      <td>3</td>\n",
       "    </tr>\n",
       "    <tr>\n",
       "      <th>1</th>\n",
       "      <td>Stockholm</td>\n",
       "      <td>NaN</td>\n",
       "      <td>1537.0</td>\n",
       "      <td>4.0</td>\n",
       "      <td>NaN</td>\n",
       "      <td>10.0</td>\n",
       "      <td>[['Unique cuisine', 'Delicious Nepalese food']...</td>\n",
       "      <td>1</td>\n",
       "      <td>1</td>\n",
       "    </tr>\n",
       "    <tr>\n",
       "      <th>2</th>\n",
       "      <td>London</td>\n",
       "      <td>['Japanese', 'Sushi', 'Asian', 'Grill', 'Veget...</td>\n",
       "      <td>353.0</td>\n",
       "      <td>4.5</td>\n",
       "      <td>$$$$</td>\n",
       "      <td>688.0</td>\n",
       "      <td>[['Catch up with friends', 'Not exceptional'],...</td>\n",
       "      <td>0</td>\n",
       "      <td>7</td>\n",
       "    </tr>\n",
       "    <tr>\n",
       "      <th>3</th>\n",
       "      <td>Berlin</td>\n",
       "      <td>NaN</td>\n",
       "      <td>3458.0</td>\n",
       "      <td>5.0</td>\n",
       "      <td>NaN</td>\n",
       "      <td>3.0</td>\n",
       "      <td>[[], []]</td>\n",
       "      <td>1</td>\n",
       "      <td>1</td>\n",
       "    </tr>\n",
       "    <tr>\n",
       "      <th>4</th>\n",
       "      <td>Munich</td>\n",
       "      <td>['German', 'Central European', 'Vegetarian Fri...</td>\n",
       "      <td>621.0</td>\n",
       "      <td>4.0</td>\n",
       "      <td>$$ - $$$</td>\n",
       "      <td>84.0</td>\n",
       "      <td>[['Best place to try a Bavarian food', 'Nice b...</td>\n",
       "      <td>0</td>\n",
       "      <td>3</td>\n",
       "    </tr>\n",
       "  </tbody>\n",
       "</table>\n",
       "</div>"
      ],
      "text/plain": [
       "        City                                      Cuisine Style  Ranking  \\\n",
       "0      Paris            ['European', 'French', 'International']   5570.0   \n",
       "1  Stockholm                                                NaN   1537.0   \n",
       "2     London  ['Japanese', 'Sushi', 'Asian', 'Grill', 'Veget...    353.0   \n",
       "3     Berlin                                                NaN   3458.0   \n",
       "4     Munich  ['German', 'Central European', 'Vegetarian Fri...    621.0   \n",
       "\n",
       "   Rating Price Range  Number of Reviews  \\\n",
       "0     3.5    $$ - $$$              194.0   \n",
       "1     4.0         NaN               10.0   \n",
       "2     4.5        $$$$              688.0   \n",
       "3     5.0         NaN                3.0   \n",
       "4     4.0    $$ - $$$               84.0   \n",
       "\n",
       "                                             Reviews  Cuisine Style NAN  \\\n",
       "0  [['Good food at your doorstep', 'A good hotel ...                  0   \n",
       "1  [['Unique cuisine', 'Delicious Nepalese food']...                  1   \n",
       "2  [['Catch up with friends', 'Not exceptional'],...                  0   \n",
       "3                                           [[], []]                  1   \n",
       "4  [['Best place to try a Bavarian food', 'Nice b...                  0   \n",
       "\n",
       "   Cuisines Count  \n",
       "0               3  \n",
       "1               1  \n",
       "2               7  \n",
       "3               1  \n",
       "4               3  "
      ]
     },
     "execution_count": 9,
     "metadata": {},
     "output_type": "execute_result"
    }
   ],
   "source": [
    "df.head()"
   ]
  },
  {
   "cell_type": "code",
   "execution_count": 10,
   "metadata": {},
   "outputs": [],
   "source": [
    "dic_value_Price = {'$':1,'$$ - $$$':2,'$$$$':3}\n",
    "df['Price Range']=df['Price Range'].map(lambda x: dic_value_Price.get(x,x))\n",
    "\n",
    "# 18412 ресторанов это более 70% из заполненной информации имеют средний параметр цены\n",
    "# поэтому заполняем пропуски двойкой (2)\n",
    "df['Price Range'] = df['Price Range'].fillna(2)"
   ]
  },
  {
   "cell_type": "code",
   "execution_count": 11,
   "metadata": {},
   "outputs": [
    {
     "data": {
      "text/html": [
       "<div>\n",
       "<style scoped>\n",
       "    .dataframe tbody tr th:only-of-type {\n",
       "        vertical-align: middle;\n",
       "    }\n",
       "\n",
       "    .dataframe tbody tr th {\n",
       "        vertical-align: top;\n",
       "    }\n",
       "\n",
       "    .dataframe thead th {\n",
       "        text-align: right;\n",
       "    }\n",
       "</style>\n",
       "<table border=\"1\" class=\"dataframe\">\n",
       "  <thead>\n",
       "    <tr style=\"text-align: right;\">\n",
       "      <th></th>\n",
       "      <th>City</th>\n",
       "      <th>Cuisine Style</th>\n",
       "      <th>Ranking</th>\n",
       "      <th>Rating</th>\n",
       "      <th>Price Range</th>\n",
       "      <th>Number of Reviews</th>\n",
       "      <th>Reviews</th>\n",
       "      <th>Cuisine Style NAN</th>\n",
       "      <th>Cuisines Count</th>\n",
       "    </tr>\n",
       "  </thead>\n",
       "  <tbody>\n",
       "    <tr>\n",
       "      <th>0</th>\n",
       "      <td>Paris</td>\n",
       "      <td>['European', 'French', 'International']</td>\n",
       "      <td>5570.0</td>\n",
       "      <td>3.5</td>\n",
       "      <td>2.0</td>\n",
       "      <td>194.0</td>\n",
       "      <td>[['Good food at your doorstep', 'A good hotel ...</td>\n",
       "      <td>0</td>\n",
       "      <td>3</td>\n",
       "    </tr>\n",
       "    <tr>\n",
       "      <th>1</th>\n",
       "      <td>Stockholm</td>\n",
       "      <td>NaN</td>\n",
       "      <td>1537.0</td>\n",
       "      <td>4.0</td>\n",
       "      <td>2.0</td>\n",
       "      <td>10.0</td>\n",
       "      <td>[['Unique cuisine', 'Delicious Nepalese food']...</td>\n",
       "      <td>1</td>\n",
       "      <td>1</td>\n",
       "    </tr>\n",
       "    <tr>\n",
       "      <th>2</th>\n",
       "      <td>London</td>\n",
       "      <td>['Japanese', 'Sushi', 'Asian', 'Grill', 'Veget...</td>\n",
       "      <td>353.0</td>\n",
       "      <td>4.5</td>\n",
       "      <td>3.0</td>\n",
       "      <td>688.0</td>\n",
       "      <td>[['Catch up with friends', 'Not exceptional'],...</td>\n",
       "      <td>0</td>\n",
       "      <td>7</td>\n",
       "    </tr>\n",
       "    <tr>\n",
       "      <th>3</th>\n",
       "      <td>Berlin</td>\n",
       "      <td>NaN</td>\n",
       "      <td>3458.0</td>\n",
       "      <td>5.0</td>\n",
       "      <td>2.0</td>\n",
       "      <td>3.0</td>\n",
       "      <td>[[], []]</td>\n",
       "      <td>1</td>\n",
       "      <td>1</td>\n",
       "    </tr>\n",
       "    <tr>\n",
       "      <th>4</th>\n",
       "      <td>Munich</td>\n",
       "      <td>['German', 'Central European', 'Vegetarian Fri...</td>\n",
       "      <td>621.0</td>\n",
       "      <td>4.0</td>\n",
       "      <td>2.0</td>\n",
       "      <td>84.0</td>\n",
       "      <td>[['Best place to try a Bavarian food', 'Nice b...</td>\n",
       "      <td>0</td>\n",
       "      <td>3</td>\n",
       "    </tr>\n",
       "    <tr>\n",
       "      <th>...</th>\n",
       "      <td>...</td>\n",
       "      <td>...</td>\n",
       "      <td>...</td>\n",
       "      <td>...</td>\n",
       "      <td>...</td>\n",
       "      <td>...</td>\n",
       "      <td>...</td>\n",
       "      <td>...</td>\n",
       "      <td>...</td>\n",
       "    </tr>\n",
       "    <tr>\n",
       "      <th>39995</th>\n",
       "      <td>Milan</td>\n",
       "      <td>['Italian', 'Vegetarian Friendly', 'Vegan Opti...</td>\n",
       "      <td>500.0</td>\n",
       "      <td>4.5</td>\n",
       "      <td>2.0</td>\n",
       "      <td>79.0</td>\n",
       "      <td>[['The real Italian experience!', 'Wonderful f...</td>\n",
       "      <td>0</td>\n",
       "      <td>4</td>\n",
       "    </tr>\n",
       "    <tr>\n",
       "      <th>39996</th>\n",
       "      <td>Paris</td>\n",
       "      <td>['French', 'American', 'Bar', 'European', 'Veg...</td>\n",
       "      <td>6341.0</td>\n",
       "      <td>3.5</td>\n",
       "      <td>2.0</td>\n",
       "      <td>542.0</td>\n",
       "      <td>[['Parisian atmosphere', 'Bit pricey but inter...</td>\n",
       "      <td>0</td>\n",
       "      <td>5</td>\n",
       "    </tr>\n",
       "    <tr>\n",
       "      <th>39997</th>\n",
       "      <td>Stockholm</td>\n",
       "      <td>['Japanese', 'Sushi']</td>\n",
       "      <td>1652.0</td>\n",
       "      <td>4.5</td>\n",
       "      <td>2.0</td>\n",
       "      <td>4.0</td>\n",
       "      <td>[['Good by swedish standards', 'A hidden jewel...</td>\n",
       "      <td>0</td>\n",
       "      <td>2</td>\n",
       "    </tr>\n",
       "    <tr>\n",
       "      <th>39998</th>\n",
       "      <td>Warsaw</td>\n",
       "      <td>['Polish', 'European', 'Eastern European', 'Ce...</td>\n",
       "      <td>641.0</td>\n",
       "      <td>4.0</td>\n",
       "      <td>2.0</td>\n",
       "      <td>70.0</td>\n",
       "      <td>[['Underground restaurant', 'Oldest Restaurant...</td>\n",
       "      <td>0</td>\n",
       "      <td>5</td>\n",
       "    </tr>\n",
       "    <tr>\n",
       "      <th>39999</th>\n",
       "      <td>Milan</td>\n",
       "      <td>['Spanish']</td>\n",
       "      <td>4827.0</td>\n",
       "      <td>3.0</td>\n",
       "      <td>2.0</td>\n",
       "      <td>260.0</td>\n",
       "      <td>[['Average', 'Nice an informal'], ['01/31/2016...</td>\n",
       "      <td>0</td>\n",
       "      <td>1</td>\n",
       "    </tr>\n",
       "  </tbody>\n",
       "</table>\n",
       "<p>40000 rows × 9 columns</p>\n",
       "</div>"
      ],
      "text/plain": [
       "            City                                      Cuisine Style  Ranking  \\\n",
       "0          Paris            ['European', 'French', 'International']   5570.0   \n",
       "1      Stockholm                                                NaN   1537.0   \n",
       "2         London  ['Japanese', 'Sushi', 'Asian', 'Grill', 'Veget...    353.0   \n",
       "3         Berlin                                                NaN   3458.0   \n",
       "4         Munich  ['German', 'Central European', 'Vegetarian Fri...    621.0   \n",
       "...          ...                                                ...      ...   \n",
       "39995      Milan  ['Italian', 'Vegetarian Friendly', 'Vegan Opti...    500.0   \n",
       "39996      Paris  ['French', 'American', 'Bar', 'European', 'Veg...   6341.0   \n",
       "39997  Stockholm                              ['Japanese', 'Sushi']   1652.0   \n",
       "39998     Warsaw  ['Polish', 'European', 'Eastern European', 'Ce...    641.0   \n",
       "39999      Milan                                        ['Spanish']   4827.0   \n",
       "\n",
       "       Rating  Price Range  Number of Reviews  \\\n",
       "0         3.5          2.0              194.0   \n",
       "1         4.0          2.0               10.0   \n",
       "2         4.5          3.0              688.0   \n",
       "3         5.0          2.0                3.0   \n",
       "4         4.0          2.0               84.0   \n",
       "...       ...          ...                ...   \n",
       "39995     4.5          2.0               79.0   \n",
       "39996     3.5          2.0              542.0   \n",
       "39997     4.5          2.0                4.0   \n",
       "39998     4.0          2.0               70.0   \n",
       "39999     3.0          2.0              260.0   \n",
       "\n",
       "                                                 Reviews  Cuisine Style NAN  \\\n",
       "0      [['Good food at your doorstep', 'A good hotel ...                  0   \n",
       "1      [['Unique cuisine', 'Delicious Nepalese food']...                  1   \n",
       "2      [['Catch up with friends', 'Not exceptional'],...                  0   \n",
       "3                                               [[], []]                  1   \n",
       "4      [['Best place to try a Bavarian food', 'Nice b...                  0   \n",
       "...                                                  ...                ...   \n",
       "39995  [['The real Italian experience!', 'Wonderful f...                  0   \n",
       "39996  [['Parisian atmosphere', 'Bit pricey but inter...                  0   \n",
       "39997  [['Good by swedish standards', 'A hidden jewel...                  0   \n",
       "39998  [['Underground restaurant', 'Oldest Restaurant...                  0   \n",
       "39999  [['Average', 'Nice an informal'], ['01/31/2016...                  0   \n",
       "\n",
       "       Cuisines Count  \n",
       "0                   3  \n",
       "1                   1  \n",
       "2                   7  \n",
       "3                   1  \n",
       "4                   3  \n",
       "...               ...  \n",
       "39995               4  \n",
       "39996               5  \n",
       "39997               2  \n",
       "39998               5  \n",
       "39999               1  \n",
       "\n",
       "[40000 rows x 9 columns]"
      ]
     },
     "execution_count": 11,
     "metadata": {},
     "output_type": "execute_result"
    }
   ],
   "source": [
    "df"
   ]
  },
  {
   "cell_type": "code",
   "execution_count": 12,
   "metadata": {},
   "outputs": [],
   "source": [
    "# вытащим дату из ревью и создадим новые критерии\n",
    "df['date_of_Review'] = df['Reviews'].str.findall('\\d+/\\d+/\\d+')\n",
    "df['len_date'] = df['date_of_Review'].apply(lambda x: len(x))"
   ]
  },
  {
   "cell_type": "code",
   "execution_count": 13,
   "metadata": {},
   "outputs": [
    {
     "name": "stdout",
     "output_type": "stream",
     "text": [
      "кол-во значений Reviews с тремя датами := 2\n"
     ]
    }
   ],
   "source": [
    "print(\"кол-во значений Reviews с тремя датами :=\" , len(df[df['len_date']==3]))"
   ]
  },
  {
   "cell_type": "code",
   "execution_count": 14,
   "metadata": {},
   "outputs": [
    {
     "name": "stdout",
     "output_type": "stream",
     "text": [
      "значения Reviews с тремя датами :=\n"
     ]
    },
    {
     "data": {
      "text/plain": [
       "[\"[['The desserts arcade !', 'Visit today 3/1/2017'], ['06/02/2017', '01/03/2017']]\",\n",
       " \"[['lunch 29/9/2016', 'Unplanned Great Dinner'], ['09/30/2016', '08/25/2016']]\"]"
      ]
     },
     "metadata": {},
     "output_type": "display_data"
    }
   ],
   "source": [
    "print(\"значения Reviews с тремя датами :=\")\n",
    "temp_list = df[df['len_date']==3].Reviews.to_list()\n",
    "display(df[df['len_date']==3].Reviews.to_list())"
   ]
  },
  {
   "cell_type": "code",
   "execution_count": 15,
   "metadata": {},
   "outputs": [],
   "source": [
    "df['len_date'].date_of_Review = df[df['len_date']==3].date_of_Review.apply(lambda x: x.pop(0))"
   ]
  },
  {
   "cell_type": "code",
   "execution_count": 16,
   "metadata": {},
   "outputs": [
    {
     "name": "stdout",
     "output_type": "stream",
     "text": [
      "кол-во значений Reviews с одной датой := 4556\n"
     ]
    },
    {
     "data": {
      "text/plain": [
       "16    [['This is a real hidden Sushi-gem'], ['04/12/...\n",
       "26    [['Heavenly meat slices and craft beer too.'],...\n",
       "27    [['Good value canteen lunch stop.'], ['01/26/2...\n",
       "28                       [['Fab Food'], ['08/20/2011']]\n",
       "Name: Reviews, dtype: object"
      ]
     },
     "metadata": {},
     "output_type": "display_data"
    }
   ],
   "source": [
    "print(\"кол-во значений Reviews с одной датой :=\" , len(df[df['len_date']==1]))\n",
    "display(df[df['len_date']==1].Reviews[:4])"
   ]
  },
  {
   "cell_type": "code",
   "execution_count": 17,
   "metadata": {},
   "outputs": [],
   "source": [
    "df['one_Review'] = (df['len_date']==1).astype('float64')\n",
    "\n",
    "# заполним перерыв между отзывами (по отзывам где len = 2) и насколько давно был сделан последний самый свежий отзыв\n",
    "# создадим для этого функции:\n",
    "def time_to_now(row):\n",
    "    if row['date_of_Review'] == []:\n",
    "        return None\n",
    "    return dt.datetime.now() - pd.to_datetime(row['date_of_Review']).max()\n",
    "\n",
    "def time_between_Reviews(row):\n",
    "    if row['date_of_Review'] == []:\n",
    "        return None\n",
    "    return pd.to_datetime(row['date_of_Review']).max() - pd.to_datetime(row['date_of_Review']).min()\n",
    "\n",
    "df['day_to_now'] = df.apply(time_to_now, axis = 1).dt.days\n",
    "df['day_between_Reviews'] = df[df['len_date']==2].apply(time_between_Reviews, axis = 1).dt.days"
   ]
  },
  {
   "cell_type": "code",
   "execution_count": 18,
   "metadata": {},
   "outputs": [],
   "source": [
    "df['day_between_Reviews'].fillna(0, inplace=True)\n",
    "df['day_to_now'].fillna(df['day_to_now'].mean(), inplace=True)\n",
    "df.drop(['Reviews', 'date_of_Review'], axis = 1, inplace=True)"
   ]
  },
  {
   "cell_type": "code",
   "execution_count": 19,
   "metadata": {},
   "outputs": [],
   "source": [
    "def get_Weighed_Rank_RK(row):\n",
    "    '''\n",
    "    Вычисляем относительную позицию ресторана среди всех ресторанов города\n",
    "    '''\n",
    "    Weighed_Rank = row['Ranking'] / row['Restaurants Count']\n",
    "\n",
    "    return Weighed_Rank"
   ]
  },
  {
   "cell_type": "code",
   "execution_count": 20,
   "metadata": {},
   "outputs": [],
   "source": [
    "restorants_in_city = df.groupby('City')['Ranking'].count().to_dict()\n",
    "df['Restaurants Count'] = df['City'].map(restorants_in_city)\n",
    "df['Weighed Rank'] = df.apply(lambda x: get_Weighed_Rank_RK(x), axis=1)\n",
    "df.drop(['Ranking'], axis = 1, inplace=True)"
   ]
  },
  {
   "cell_type": "code",
   "execution_count": 21,
   "metadata": {},
   "outputs": [
    {
     "data": {
      "image/png": "[encoded data removed]",
      "text/plain": [
       "<Figure size 1080x1080 with 2 Axes>"
      ]
     },
     "metadata": {
      "needs_background": "light"
     },
     "output_type": "display_data"
    }
   ],
   "source": [
    "plt.rcParams['figure.figsize'] = (15,15)\n",
    "sns.heatmap(df.corr(), square=True,\n",
    "            annot=True, fmt=\".1f\", linewidths=0.1, cmap=\"RdBu\");\n",
    "plt.tight_layout()"
   ]
  },
  {
   "cell_type": "code",
   "execution_count": 27,
   "metadata": {},
   "outputs": [
    {
     "data": {
      "image/png": "[encoded data removed]",
      "text/plain": [
       "<Figure size 288x288 with 1 Axes>"
      ]
     },
     "metadata": {
      "needs_background": "light"
     },
     "output_type": "display_data"
    },
    {
     "data": {
      "image/png": "[encoded data removed]",
      "text/plain": [
       "<Figure size 288x288 with 1 Axes>"
      ]
     },
     "metadata": {
      "needs_background": "light"
     },
     "output_type": "display_data"
    },
    {
     "data": {
      "image/png": "[encoded data removed]",
      "text/plain": [
       "<Figure size 288x288 with 1 Axes>"
      ]
     },
     "metadata": {
      "needs_background": "light"
     },
     "output_type": "display_data"
    },
    {
     "data": {
      "image/png": "[encoded data removed]",
      "text/plain": [
       "<Figure size 288x288 with 1 Axes>"
      ]
     },
     "metadata": {
      "needs_background": "light"
     },
     "output_type": "display_data"
    },
    {
     "data": {
      "image/png": "[encoded data removed]",
      "text/plain": [
       "<Figure size 288x288 with 1 Axes>"
      ]
     },
     "metadata": {
      "needs_background": "light"
     },
     "output_type": "display_data"
    },
    {
     "data": {
      "image/png": "[encoded data removed]",
      "text/plain": [
       "<Figure size 288x288 with 1 Axes>"
      ]
     },
     "metadata": {
      "needs_background": "light"
     },
     "output_type": "display_data"
    },
    {
     "data": {
      "image/png": "[encoded data removed]",
      "text/plain": [
       "<Figure size 288x288 with 1 Axes>"
      ]
     },
     "metadata": {
      "needs_background": "light"
     },
     "output_type": "display_data"
    },
    {
     "data": {
      "image/png": "[encoded data removed]",
      "text/plain": [
       "<Figure size 288x288 with 1 Axes>"
      ]
     },
     "metadata": {
      "needs_background": "light"
     },
     "output_type": "display_data"
    },
    {
     "data": {
      "image/png": "[encoded data removed]",
      "text/plain": [
       "<Figure size 288x288 with 1 Axes>"
      ]
     },
     "metadata": {
      "needs_background": "light"
     },
     "output_type": "display_data"
    },
    {
     "data": {
      "image/png": "[encoded data removed]",
      "text/plain": [
       "<Figure size 288x288 with 1 Axes>"
      ]
     },
     "metadata": {
      "needs_background": "light"
     },
     "output_type": "display_data"
    },
    {
     "data": {
      "image/png": "[encoded data removed]",
      "text/plain": [
       "<Figure size 288x288 with 1 Axes>"
      ]
     },
     "metadata": {
      "needs_background": "light"
     },
     "output_type": "display_data"
    }
   ],
   "source": [
    "def num_column_hist (column):\n",
    "    fid, ax = plt.subplots(figsize = (4, 4))\n",
    "    ax.set_title(f'Hist for {column}')\n",
    "    df[column].hist()\n",
    "    plt.show()\n",
    "num_column = list(df.select_dtypes(include=['float64', 'int64']).columns)\n",
    "for column in num_column:\n",
    "    num_column_hist(column)"
   ]
  },
  {
   "cell_type": "code",
   "execution_count": 32,
   "metadata": {},
   "outputs": [
    {
     "data": {
      "image/png": "[encoded data removed]",
      "text/plain": [
       "<Figure size 360x720 with 1 Axes>"
      ]
     },
     "metadata": {
      "needs_background": "light"
     },
     "output_type": "display_data"
    }
   ],
   "source": [
    "df['City'].value_counts(ascending=True).plot(kind='barh');"
   ]
  },
  {
   "cell_type": "code",
   "execution_count": 22,
   "metadata": {},
   "outputs": [],
   "source": [
    "# Сокращаем список кухонь для анализа до N - основных, остальные Other - это почти всегда дает улучшение предсказания\n",
    "N=15 #!!!\n",
    "\n",
    "s = df['Cuisine Style'].apply(lambda x: get_cuisines(x))\n",
    "slist =[]\n",
    "for x in s:\n",
    "    slist.extend(x)\n",
    "topNcusines = list(pd.Series(slist).value_counts()[:N].index)\n",
    "topNcusines.append('Other')"
   ]
  },
  {
   "cell_type": "code",
   "execution_count": 23,
   "metadata": {},
   "outputs": [],
   "source": [
    "for cusine in topNcusines:\n",
    "    df[cusine] = df['Cuisine Style'].apply(lambda x: 1 if cusine in x else 0)"
   ]
  },
  {
   "cell_type": "code",
   "execution_count": 24,
   "metadata": {},
   "outputs": [],
   "source": [
    "df.drop('Cuisine Style', axis = 1, inplace=True)"
   ]
  },
  {
   "cell_type": "code",
   "execution_count": 29,
   "metadata": {},
   "outputs": [
    {
     "data": {
      "text/html": [
       "<div>\n",
       "<style scoped>\n",
       "    .dataframe tbody tr th:only-of-type {\n",
       "        vertical-align: middle;\n",
       "    }\n",
       "\n",
       "    .dataframe tbody tr th {\n",
       "        vertical-align: top;\n",
       "    }\n",
       "\n",
       "    .dataframe thead th {\n",
       "        text-align: right;\n",
       "    }\n",
       "</style>\n",
       "<table border=\"1\" class=\"dataframe\">\n",
       "  <thead>\n",
       "    <tr style=\"text-align: right;\">\n",
       "      <th></th>\n",
       "      <th>City</th>\n",
       "      <th>Rating</th>\n",
       "      <th>Price Range</th>\n",
       "      <th>Number of Reviews</th>\n",
       "      <th>Cuisine Style NAN</th>\n",
       "      <th>Cuisines Count</th>\n",
       "      <th>len_date</th>\n",
       "      <th>one_Review</th>\n",
       "      <th>day_to_now</th>\n",
       "      <th>day_between_Reviews</th>\n",
       "      <th>...</th>\n",
       "      <th>Gluten Free Options</th>\n",
       "      <th>Bar</th>\n",
       "      <th>French</th>\n",
       "      <th>Asian</th>\n",
       "      <th>Pizza</th>\n",
       "      <th>Spanish</th>\n",
       "      <th>Pub</th>\n",
       "      <th>Cafe</th>\n",
       "      <th>Fast Food</th>\n",
       "      <th>Other</th>\n",
       "    </tr>\n",
       "  </thead>\n",
       "  <tbody>\n",
       "    <tr>\n",
       "      <th>0</th>\n",
       "      <td>Paris</td>\n",
       "      <td>3.5</td>\n",
       "      <td>2.0</td>\n",
       "      <td>194.0</td>\n",
       "      <td>0</td>\n",
       "      <td>3</td>\n",
       "      <td>2</td>\n",
       "      <td>0.0</td>\n",
       "      <td>1033.000000</td>\n",
       "      <td>41.0</td>\n",
       "      <td>...</td>\n",
       "      <td>0</td>\n",
       "      <td>0</td>\n",
       "      <td>1</td>\n",
       "      <td>0</td>\n",
       "      <td>0</td>\n",
       "      <td>0</td>\n",
       "      <td>0</td>\n",
       "      <td>0</td>\n",
       "      <td>0</td>\n",
       "      <td>0</td>\n",
       "    </tr>\n",
       "    <tr>\n",
       "      <th>1</th>\n",
       "      <td>Stockholm</td>\n",
       "      <td>4.0</td>\n",
       "      <td>2.0</td>\n",
       "      <td>10.0</td>\n",
       "      <td>1</td>\n",
       "      <td>1</td>\n",
       "      <td>2</td>\n",
       "      <td>0.0</td>\n",
       "      <td>1211.000000</td>\n",
       "      <td>382.0</td>\n",
       "      <td>...</td>\n",
       "      <td>0</td>\n",
       "      <td>0</td>\n",
       "      <td>0</td>\n",
       "      <td>0</td>\n",
       "      <td>0</td>\n",
       "      <td>0</td>\n",
       "      <td>0</td>\n",
       "      <td>0</td>\n",
       "      <td>0</td>\n",
       "      <td>0</td>\n",
       "    </tr>\n",
       "    <tr>\n",
       "      <th>2</th>\n",
       "      <td>London</td>\n",
       "      <td>4.5</td>\n",
       "      <td>3.0</td>\n",
       "      <td>688.0</td>\n",
       "      <td>0</td>\n",
       "      <td>7</td>\n",
       "      <td>2</td>\n",
       "      <td>0.0</td>\n",
       "      <td>1025.000000</td>\n",
       "      <td>2.0</td>\n",
       "      <td>...</td>\n",
       "      <td>1</td>\n",
       "      <td>0</td>\n",
       "      <td>0</td>\n",
       "      <td>1</td>\n",
       "      <td>0</td>\n",
       "      <td>0</td>\n",
       "      <td>0</td>\n",
       "      <td>0</td>\n",
       "      <td>0</td>\n",
       "      <td>0</td>\n",
       "    </tr>\n",
       "    <tr>\n",
       "      <th>3</th>\n",
       "      <td>Berlin</td>\n",
       "      <td>5.0</td>\n",
       "      <td>2.0</td>\n",
       "      <td>3.0</td>\n",
       "      <td>1</td>\n",
       "      <td>1</td>\n",
       "      <td>0</td>\n",
       "      <td>0.0</td>\n",
       "      <td>1265.366161</td>\n",
       "      <td>0.0</td>\n",
       "      <td>...</td>\n",
       "      <td>0</td>\n",
       "      <td>0</td>\n",
       "      <td>0</td>\n",
       "      <td>0</td>\n",
       "      <td>0</td>\n",
       "      <td>0</td>\n",
       "      <td>0</td>\n",
       "      <td>0</td>\n",
       "      <td>0</td>\n",
       "      <td>0</td>\n",
       "    </tr>\n",
       "    <tr>\n",
       "      <th>4</th>\n",
       "      <td>Munich</td>\n",
       "      <td>4.0</td>\n",
       "      <td>2.0</td>\n",
       "      <td>84.0</td>\n",
       "      <td>0</td>\n",
       "      <td>3</td>\n",
       "      <td>2</td>\n",
       "      <td>0.0</td>\n",
       "      <td>1076.000000</td>\n",
       "      <td>272.0</td>\n",
       "      <td>...</td>\n",
       "      <td>0</td>\n",
       "      <td>0</td>\n",
       "      <td>0</td>\n",
       "      <td>0</td>\n",
       "      <td>0</td>\n",
       "      <td>0</td>\n",
       "      <td>0</td>\n",
       "      <td>0</td>\n",
       "      <td>0</td>\n",
       "      <td>0</td>\n",
       "    </tr>\n",
       "    <tr>\n",
       "      <th>...</th>\n",
       "      <td>...</td>\n",
       "      <td>...</td>\n",
       "      <td>...</td>\n",
       "      <td>...</td>\n",
       "      <td>...</td>\n",
       "      <td>...</td>\n",
       "      <td>...</td>\n",
       "      <td>...</td>\n",
       "      <td>...</td>\n",
       "      <td>...</td>\n",
       "      <td>...</td>\n",
       "      <td>...</td>\n",
       "      <td>...</td>\n",
       "      <td>...</td>\n",
       "      <td>...</td>\n",
       "      <td>...</td>\n",
       "      <td>...</td>\n",
       "      <td>...</td>\n",
       "      <td>...</td>\n",
       "      <td>...</td>\n",
       "      <td>...</td>\n",
       "    </tr>\n",
       "    <tr>\n",
       "      <th>39995</th>\n",
       "      <td>Milan</td>\n",
       "      <td>4.5</td>\n",
       "      <td>2.0</td>\n",
       "      <td>79.0</td>\n",
       "      <td>0</td>\n",
       "      <td>4</td>\n",
       "      <td>2</td>\n",
       "      <td>0.0</td>\n",
       "      <td>1048.000000</td>\n",
       "      <td>34.0</td>\n",
       "      <td>...</td>\n",
       "      <td>1</td>\n",
       "      <td>0</td>\n",
       "      <td>0</td>\n",
       "      <td>0</td>\n",
       "      <td>0</td>\n",
       "      <td>0</td>\n",
       "      <td>0</td>\n",
       "      <td>0</td>\n",
       "      <td>0</td>\n",
       "      <td>0</td>\n",
       "    </tr>\n",
       "    <tr>\n",
       "      <th>39996</th>\n",
       "      <td>Paris</td>\n",
       "      <td>3.5</td>\n",
       "      <td>2.0</td>\n",
       "      <td>542.0</td>\n",
       "      <td>0</td>\n",
       "      <td>5</td>\n",
       "      <td>2</td>\n",
       "      <td>0.0</td>\n",
       "      <td>1043.000000</td>\n",
       "      <td>9.0</td>\n",
       "      <td>...</td>\n",
       "      <td>0</td>\n",
       "      <td>1</td>\n",
       "      <td>1</td>\n",
       "      <td>0</td>\n",
       "      <td>0</td>\n",
       "      <td>0</td>\n",
       "      <td>0</td>\n",
       "      <td>0</td>\n",
       "      <td>0</td>\n",
       "      <td>0</td>\n",
       "    </tr>\n",
       "    <tr>\n",
       "      <th>39997</th>\n",
       "      <td>Stockholm</td>\n",
       "      <td>4.5</td>\n",
       "      <td>2.0</td>\n",
       "      <td>4.0</td>\n",
       "      <td>0</td>\n",
       "      <td>2</td>\n",
       "      <td>2</td>\n",
       "      <td>0.0</td>\n",
       "      <td>1456.000000</td>\n",
       "      <td>3127.0</td>\n",
       "      <td>...</td>\n",
       "      <td>0</td>\n",
       "      <td>0</td>\n",
       "      <td>0</td>\n",
       "      <td>0</td>\n",
       "      <td>0</td>\n",
       "      <td>0</td>\n",
       "      <td>0</td>\n",
       "      <td>0</td>\n",
       "      <td>0</td>\n",
       "      <td>0</td>\n",
       "    </tr>\n",
       "    <tr>\n",
       "      <th>39998</th>\n",
       "      <td>Warsaw</td>\n",
       "      <td>4.0</td>\n",
       "      <td>2.0</td>\n",
       "      <td>70.0</td>\n",
       "      <td>0</td>\n",
       "      <td>5</td>\n",
       "      <td>2</td>\n",
       "      <td>0.0</td>\n",
       "      <td>1206.000000</td>\n",
       "      <td>23.0</td>\n",
       "      <td>...</td>\n",
       "      <td>0</td>\n",
       "      <td>0</td>\n",
       "      <td>0</td>\n",
       "      <td>0</td>\n",
       "      <td>0</td>\n",
       "      <td>0</td>\n",
       "      <td>0</td>\n",
       "      <td>0</td>\n",
       "      <td>0</td>\n",
       "      <td>0</td>\n",
       "    </tr>\n",
       "    <tr>\n",
       "      <th>39999</th>\n",
       "      <td>Milan</td>\n",
       "      <td>3.0</td>\n",
       "      <td>2.0</td>\n",
       "      <td>260.0</td>\n",
       "      <td>0</td>\n",
       "      <td>1</td>\n",
       "      <td>2</td>\n",
       "      <td>0.0</td>\n",
       "      <td>1733.000000</td>\n",
       "      <td>1306.0</td>\n",
       "      <td>...</td>\n",
       "      <td>0</td>\n",
       "      <td>0</td>\n",
       "      <td>0</td>\n",
       "      <td>0</td>\n",
       "      <td>0</td>\n",
       "      <td>1</td>\n",
       "      <td>0</td>\n",
       "      <td>0</td>\n",
       "      <td>0</td>\n",
       "      <td>0</td>\n",
       "    </tr>\n",
       "  </tbody>\n",
       "</table>\n",
       "<p>40000 rows × 28 columns</p>\n",
       "</div>"
      ],
      "text/plain": [
       "            City  Rating  Price Range  Number of Reviews  Cuisine Style NAN  \\\n",
       "0          Paris     3.5          2.0              194.0                  0   \n",
       "1      Stockholm     4.0          2.0               10.0                  1   \n",
       "2         London     4.5          3.0              688.0                  0   \n",
       "3         Berlin     5.0          2.0                3.0                  1   \n",
       "4         Munich     4.0          2.0               84.0                  0   \n",
       "...          ...     ...          ...                ...                ...   \n",
       "39995      Milan     4.5          2.0               79.0                  0   \n",
       "39996      Paris     3.5          2.0              542.0                  0   \n",
       "39997  Stockholm     4.5          2.0                4.0                  0   \n",
       "39998     Warsaw     4.0          2.0               70.0                  0   \n",
       "39999      Milan     3.0          2.0              260.0                  0   \n",
       "\n",
       "       Cuisines Count  len_date  one_Review   day_to_now  day_between_Reviews  \\\n",
       "0                   3         2         0.0  1033.000000                 41.0   \n",
       "1                   1         2         0.0  1211.000000                382.0   \n",
       "2                   7         2         0.0  1025.000000                  2.0   \n",
       "3                   1         0         0.0  1265.366161                  0.0   \n",
       "4                   3         2         0.0  1076.000000                272.0   \n",
       "...               ...       ...         ...          ...                  ...   \n",
       "39995               4         2         0.0  1048.000000                 34.0   \n",
       "39996               5         2         0.0  1043.000000                  9.0   \n",
       "39997               2         2         0.0  1456.000000               3127.0   \n",
       "39998               5         2         0.0  1206.000000                 23.0   \n",
       "39999               1         2         0.0  1733.000000               1306.0   \n",
       "\n",
       "       ...  Gluten Free Options  Bar  French  Asian  Pizza  Spanish  Pub  \\\n",
       "0      ...                    0    0       1      0      0        0    0   \n",
       "1      ...                    0    0       0      0      0        0    0   \n",
       "2      ...                    1    0       0      1      0        0    0   \n",
       "3      ...                    0    0       0      0      0        0    0   \n",
       "4      ...                    0    0       0      0      0        0    0   \n",
       "...    ...                  ...  ...     ...    ...    ...      ...  ...   \n",
       "39995  ...                    1    0       0      0      0        0    0   \n",
       "39996  ...                    0    1       1      0      0        0    0   \n",
       "39997  ...                    0    0       0      0      0        0    0   \n",
       "39998  ...                    0    0       0      0      0        0    0   \n",
       "39999  ...                    0    0       0      0      0        1    0   \n",
       "\n",
       "       Cafe  Fast Food  Other  \n",
       "0         0          0      0  \n",
       "1         0          0      0  \n",
       "2         0          0      0  \n",
       "3         0          0      0  \n",
       "4         0          0      0  \n",
       "...     ...        ...    ...  \n",
       "39995     0          0      0  \n",
       "39996     0          0      0  \n",
       "39997     0          0      0  \n",
       "39998     0          0      0  \n",
       "39999     0          0      0  \n",
       "\n",
       "[40000 rows x 28 columns]"
      ]
     },
     "execution_count": 29,
     "metadata": {},
     "output_type": "execute_result"
    }
   ],
   "source": [
    "df"
   ]
  },
  {
   "cell_type": "code",
   "execution_count": 30,
   "metadata": {},
   "outputs": [
    {
     "name": "stdout",
     "output_type": "stream",
     "text": [
      "<class 'pandas.core.frame.DataFrame'>\n",
      "RangeIndex: 40000 entries, 0 to 39999\n",
      "Data columns (total 28 columns):\n",
      " #   Column               Non-Null Count  Dtype  \n",
      "---  ------               --------------  -----  \n",
      " 0   City                 40000 non-null  object \n",
      " 1   Rating               40000 non-null  float64\n",
      " 2   Price Range          40000 non-null  float64\n",
      " 3   Number of Reviews    37457 non-null  float64\n",
      " 4   Cuisine Style NAN    40000 non-null  int64  \n",
      " 5   Cuisines Count       40000 non-null  int64  \n",
      " 6   len_date             40000 non-null  int64  \n",
      " 7   one_Review           40000 non-null  float64\n",
      " 8   day_to_now           40000 non-null  float64\n",
      " 9   day_between_Reviews  40000 non-null  float64\n",
      " 10  Restaurants Count    40000 non-null  int64  \n",
      " 11  Weighed Rank         40000 non-null  float64\n",
      " 12  Vegetarian Friendly  40000 non-null  int64  \n",
      " 13  European             40000 non-null  int64  \n",
      " 14  Regionl Cusine       40000 non-null  int64  \n",
      " 15  Mediterranean        40000 non-null  int64  \n",
      " 16  Italian              40000 non-null  int64  \n",
      " 17  Vegan Options        40000 non-null  int64  \n",
      " 18  Gluten Free Options  40000 non-null  int64  \n",
      " 19  Bar                  40000 non-null  int64  \n",
      " 20  French               40000 non-null  int64  \n",
      " 21  Asian                40000 non-null  int64  \n",
      " 22  Pizza                40000 non-null  int64  \n",
      " 23  Spanish              40000 non-null  int64  \n",
      " 24  Pub                  40000 non-null  int64  \n",
      " 25  Cafe                 40000 non-null  int64  \n",
      " 26  Fast Food            40000 non-null  int64  \n",
      " 27  Other                40000 non-null  int64  \n",
      "dtypes: float64(7), int64(20), object(1)\n",
      "memory usage: 8.5+ MB\n"
     ]
    }
   ],
   "source": [
    "df.info()"
   ]
  },
  {
   "cell_type": "code",
   "execution_count": 31,
   "metadata": {},
   "outputs": [],
   "source": [
    "df_City_dummies = pd.get_dummies(df['City'], dummy_na=False).astype('float64')\n",
    "df = pd.concat([df,df_City_dummies], axis=1)"
   ]
  },
  {
   "cell_type": "code",
   "execution_count": 37,
   "metadata": {},
   "outputs": [],
   "source": [
    "df['Number of Reviews'].fillna(round(df['Number of Reviews'].mean()), inplace=True)"
   ]
  },
  {
   "cell_type": "code",
   "execution_count": 36,
   "metadata": {},
   "outputs": [
    {
     "name": "stdout",
     "output_type": "stream",
     "text": [
      "<class 'pandas.core.frame.DataFrame'>\n",
      "RangeIndex: 40000 entries, 0 to 39999\n",
      "Data columns (total 59 columns):\n",
      " #   Column               Non-Null Count  Dtype  \n",
      "---  ------               --------------  -----  \n",
      " 0   City                 40000 non-null  object \n",
      " 1   Rating               40000 non-null  float64\n",
      " 2   Price Range          40000 non-null  float64\n",
      " 3   Number of Reviews    40000 non-null  float64\n",
      " 4   Cuisine Style NAN    40000 non-null  int64  \n",
      " 5   Cuisines Count       40000 non-null  int64  \n",
      " 6   len_date             40000 non-null  int64  \n",
      " 7   one_Review           40000 non-null  float64\n",
      " 8   day_to_now           40000 non-null  float64\n",
      " 9   day_between_Reviews  40000 non-null  float64\n",
      " 10  Restaurants Count    40000 non-null  int64  \n",
      " 11  Weighed Rank         40000 non-null  float64\n",
      " 12  Vegetarian Friendly  40000 non-null  int64  \n",
      " 13  European             40000 non-null  int64  \n",
      " 14  Regionl Cusine       40000 non-null  int64  \n",
      " 15  Mediterranean        40000 non-null  int64  \n",
      " 16  Italian              40000 non-null  int64  \n",
      " 17  Vegan Options        40000 non-null  int64  \n",
      " 18  Gluten Free Options  40000 non-null  int64  \n",
      " 19  Bar                  40000 non-null  int64  \n",
      " 20  French               40000 non-null  int64  \n",
      " 21  Asian                40000 non-null  int64  \n",
      " 22  Pizza                40000 non-null  int64  \n",
      " 23  Spanish              40000 non-null  int64  \n",
      " 24  Pub                  40000 non-null  int64  \n",
      " 25  Cafe                 40000 non-null  int64  \n",
      " 26  Fast Food            40000 non-null  int64  \n",
      " 27  Other                40000 non-null  int64  \n",
      " 28  Amsterdam            40000 non-null  float64\n",
      " 29  Athens               40000 non-null  float64\n",
      " 30  Barcelona            40000 non-null  float64\n",
      " 31  Berlin               40000 non-null  float64\n",
      " 32  Bratislava           40000 non-null  float64\n",
      " 33  Brussels             40000 non-null  float64\n",
      " 34  Budapest             40000 non-null  float64\n",
      " 35  Copenhagen           40000 non-null  float64\n",
      " 36  Dublin               40000 non-null  float64\n",
      " 37  Edinburgh            40000 non-null  float64\n",
      " 38  Geneva               40000 non-null  float64\n",
      " 39  Hamburg              40000 non-null  float64\n",
      " 40  Helsinki             40000 non-null  float64\n",
      " 41  Krakow               40000 non-null  float64\n",
      " 42  Lisbon               40000 non-null  float64\n",
      " 43  Ljubljana            40000 non-null  float64\n",
      " 44  London               40000 non-null  float64\n",
      " 45  Luxembourg           40000 non-null  float64\n",
      " 46  Lyon                 40000 non-null  float64\n",
      " 47  Madrid               40000 non-null  float64\n",
      " 48  Milan                40000 non-null  float64\n",
      " 49  Munich               40000 non-null  float64\n",
      " 50  Oporto               40000 non-null  float64\n",
      " 51  Oslo                 40000 non-null  float64\n",
      " 52  Paris                40000 non-null  float64\n",
      " 53  Prague               40000 non-null  float64\n",
      " 54  Rome                 40000 non-null  float64\n",
      " 55  Stockholm            40000 non-null  float64\n",
      " 56  Vienna               40000 non-null  float64\n",
      " 57  Warsaw               40000 non-null  float64\n",
      " 58  Zurich               40000 non-null  float64\n",
      "dtypes: float64(38), int64(20), object(1)\n",
      "memory usage: 18.0+ MB\n"
     ]
    }
   ],
   "source": [
    "\n",
    "df.info()"
   ]
  },
  {
   "cell_type": "code",
   "execution_count": 40,
   "metadata": {},
   "outputs": [],
   "source": [
    "X = df.drop(['City','Rating'], axis = 1)\n",
    "y = df['Rating']"
   ]
  },
  {
   "cell_type": "code",
   "execution_count": 41,
   "metadata": {},
   "outputs": [
    {
     "name": "stdout",
     "output_type": "stream",
     "text": [
      "MAE: 0.2054035\n"
     ]
    }
   ],
   "source": [
    "X_train, X_test, y_train, y_test = train_test_split(X, y, test_size=0.25)\n",
    "# Создаём модель\n",
    "regr = RandomForestRegressor(n_estimators=100)\n",
    "\n",
    "# Обучаем модель на тестовом наборе данных\n",
    "regr.fit(X_train, y_train)\n",
    "\n",
    "# Используем обученную модель для предсказания рейтинга ресторанов в тестовой выборке.\n",
    "# Предсказанные значения записываем в переменную y_pred\n",
    "y_pred = regr.predict(X_test)\n",
    "print('MAE:', metrics.mean_absolute_error(y_test, y_pred))"
   ]
  },
  {
   "cell_type": "code",
   "execution_count": null,
   "metadata": {},
   "outputs": [],
   "source": []
  }
 ],
 "metadata": {
  "kernelspec": {
   "display_name": "Python 3",
   "language": "python",
   "name": "python3"
  },
  "language_info": {
   "codemirror_mode": {
    "name": "ipython",
    "version": 3
   },
   "file_extension": ".py",
   "mimetype": "text/x-python",
   "name": "python",
   "nbconvert_exporter": "python",
   "pygments_lexer": "ipython3",
   "version": "3.8.3"
  }
 },
 "nbformat": 4,
 "nbformat_minor": 4
}
