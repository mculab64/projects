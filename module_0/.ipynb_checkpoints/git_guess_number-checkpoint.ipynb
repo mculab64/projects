{
 "cells": [
  {
   "cell_type": "code",
   "execution_count": 1,
   "metadata": {},
   "outputs": [],
   "source": [
    "import numpy as np"
   ]
  },
  {
   "cell_type": "code",
   "execution_count": 8,
   "metadata": {},
   "outputs": [],
   "source": [
    "def game_core_best(number):\n",
    "    '''Algorithm for predicting a number by dividing the segment in half and changing the edges'''\n",
    "    count = 1\n",
    "    predict = 50\n",
    "    left_edge = 1\n",
    "    right_edge = 101\n",
    "    while number != predict:\n",
    "        count += 1\n",
    "        if number < predict:\n",
    "            right_edge = predict\n",
    "            predict = (left_edge + right_edge) // 2\n",
    "        else:\n",
    "            left_edge = predict\n",
    "            predict = (left_edge + right_edge) // 2\n",
    "    return(count)"
   ]
  },
  {
   "cell_type": "code",
   "execution_count": 9,
   "metadata": {},
   "outputs": [],
   "source": [
    "def score_game(game_core):\n",
    "    '''Launch the game 1000 times to find out how fast the game guesses the number'''\n",
    "    count_ls = []\n",
    "    np.random.seed(1)  # fixing RANDOM SEED so that your experiment will be reproducible!\n",
    "    random_array = np.random.randint(1,101, size=(1000))\n",
    "    for number in random_array:\n",
    "        count_ls.append(game_core(number))\n",
    "    score = int(round(np.mean(count_ls)))\n",
    "    print(\"Your algorithm guesses the number in an average of {} attempts\".format(score))\n",
    "    return(score)"
   ]
  },
  {
   "cell_type": "code",
   "execution_count": 10,
   "metadata": {},
   "outputs": [
    {
     "name": "stdout",
     "output_type": "stream",
     "text": [
      "Your algorithm guesses the number in an average of 6 attempts\n"
     ]
    },
    {
     "data": {
      "text/plain": [
       "6"
      ]
     },
     "execution_count": 10,
     "metadata": {},
     "output_type": "execute_result"
    }
   ],
   "source": [
    "score_game(game_core_best)"
   ]
  },
  {
   "cell_type": "code",
   "execution_count": null,
   "metadata": {},
   "outputs": [],
   "source": []
  }
 ],
 "metadata": {
  "kernelspec": {
   "display_name": "Python 3",
   "language": "python",
   "name": "python3"
  },
  "language_info": {
   "codemirror_mode": {
    "name": "ipython",
    "version": 3
   },
   "file_extension": ".py",
   "mimetype": "text/x-python",
   "name": "python",
   "nbconvert_exporter": "python",
   "pygments_lexer": "ipython3",
   "version": "3.7.6"
  }
 },
 "nbformat": 4,
 "nbformat_minor": 4
}
